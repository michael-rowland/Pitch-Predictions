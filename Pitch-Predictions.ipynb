{
 "cells": [
  {
   "cell_type": "markdown",
   "metadata": {
    "colab_type": "text",
    "id": "view-in-github"
   },
   "source": [
    "<a href=\"https://colab.research.google.com/github/michael-rowland/Pitch-Predictions/blob/master/Pitch-Predictions.ipynb\" target=\"_parent\"><img src=\"https://colab.research.google.com/assets/colab-badge.svg\" alt=\"Open In Colab\"/></a>"
   ]
  },
  {
   "cell_type": "markdown",
   "metadata": {
    "colab_type": "text",
    "id": "nAo_t8mL7782"
   },
   "source": [
    "## NOTES\n",
    "\n",
    "---\n",
    "\n",
    "QUESTIONS: \n",
    "- should I keep notes in docstring?\n",
    "\n",
    "Features:\n",
    "- Shifting?\n",
    "- Home/Away\n",
    "\n",
    "Per pitcher models\n",
    "\n",
    "Exponential Smoothing\n",
    "\n",
    "Permutation Importances\n",
    "\n",
    "AVERAGE ROC AUC / SCORECARD\n",
    "\n",
    "MULTIPLE PITCHERS\n",
    "\n",
    "MODEL TYPES"
   ]
  },
  {
   "cell_type": "markdown",
   "metadata": {
    "colab_type": "text",
    "id": "OJcWLt0IjSpi"
   },
   "source": [
    "## SETUP\n",
    "\n",
    "---\n",
    "\n"
   ]
  },
  {
   "cell_type": "code",
   "execution_count": 8,
   "metadata": {
    "colab": {},
    "colab_type": "code",
    "id": "d536ZH3bNNoR"
   },
   "outputs": [],
   "source": [
    "%%capture\n",
    "import sys\n",
    "\n",
    "# If you're on Colab:\n",
    "if 'google.colab' in sys.modules:\n",
    "    !pip install category_encoders==2.*\n",
    "    !pip install pybaseball\n",
    "\n",
    "# If you're working locally:\n",
    "else:\n",
    "    DATA_PATH = '../data/'"
   ]
  },
  {
   "cell_type": "code",
   "execution_count": 97,
   "metadata": {
    "colab": {},
    "colab_type": "code",
    "id": "Zx9VsN0oTWm4"
   },
   "outputs": [],
   "source": [
    "# import os\n",
    "# import numpy as np\n",
    "import pandas as pd\n",
    "import category_encoders as ce\n",
    "from pybaseball import statcast_pitcher, playerid_lookup\n",
    "\n",
    "pd.set_option('display.max_columns', None)\n",
    "pd.set_option('display.max_rows', None)"
   ]
  },
  {
   "cell_type": "markdown",
   "metadata": {
    "colab_type": "text",
    "id": "kPOjdQMtiCzb"
   },
   "source": [
    "## DATA CLEANING\n",
    "\n",
    "---\n",
    "\n"
   ]
  },
  {
   "cell_type": "code",
   "execution_count": 11,
   "metadata": {
    "colab": {},
    "colab_type": "code",
    "id": "Ub2a5qyllXw4"
   },
   "outputs": [],
   "source": [
    "def reorder(df):\n",
    "  '''\n",
    "  reorders pitches in ascending order\n",
    "  '''\n",
    "  df = df.copy()\n",
    "\n",
    "  df = df.reindex(index=df.index[::-1])\n",
    "  df = df.reset_index(drop=True)\n",
    "\n",
    "  return df"
   ]
  },
  {
   "cell_type": "code",
   "execution_count": 174,
   "metadata": {
    "colab": {},
    "colab_type": "code",
    "id": "hBJ_cQukIIhQ"
   },
   "outputs": [],
   "source": [
    "def pitch_cleaning(df):\n",
    "  '''\n",
    "  cleans target ('pitch_type'), dropping NaN's (bad data) and non-standard \n",
    "  pitches\n",
    "  '''\n",
    "  df = df.copy()\n",
    "\n",
    "  df = df.dropna(subset=['pitch_type'])\n",
    "  \n",
    "  df['pitch_type'] = df['pitch_type'].str.lower()\n",
    "  remove_pitches = ['po', 'in', 'un']\n",
    "  df = df[~df['pitch_type'].isin(remove_pitches)]\n",
    "  df = df.drop('pitch_name', axis=1)\n",
    "\n",
    "  return df"
   ]
  },
  {
   "cell_type": "code",
   "execution_count": 13,
   "metadata": {
    "colab": {},
    "colab_type": "code",
    "id": "vAknmNqXkwl5"
   },
   "outputs": [],
   "source": [
    "def historical_cleaning(df):\n",
    "  '''\n",
    "  shifts relevant historical data to prevent data leakage\n",
    "  '''\n",
    "  df = df.copy()\n",
    "\n",
    "  df['previous_pitch'] = df['pitch_type'].shift(1) # target, should probably be dropped initially\n",
    "  df['previous_strike'] = df['type'].shift(1) == 'S'\n",
    "  df['previous_zone'] = df['zone'].shift(1) # this may need to be encoded somehow\n",
    "  df = df.drop(['type', 'zone'], axis=1)\n",
    "\n",
    "  return df"
   ]
  },
  {
   "cell_type": "markdown",
   "metadata": {
    "colab_type": "text",
    "id": "5LDyftn--AAg"
   },
   "source": [
    "## DATA PROCESSING\n",
    "\n",
    "---\n"
   ]
  },
  {
   "cell_type": "code",
   "execution_count": 14,
   "metadata": {
    "colab": {},
    "colab_type": "code",
    "id": "8-kLatuYzfWJ"
   },
   "outputs": [],
   "source": [
    "def total_pitches(df):\n",
    "  '''\n",
    "  creates column of total pitches prior to current/target pitch\n",
    "  '''\n",
    "  df = df.copy()\n",
    "\n",
    "  df['pitch_total'] = df.groupby('game_date').cumcount(ascending=True)\n",
    "\n",
    "  return df"
   ]
  },
  {
   "cell_type": "code",
   "execution_count": 15,
   "metadata": {
    "colab": {},
    "colab_type": "code",
    "id": "9xVEscXA1Jqo"
   },
   "outputs": [],
   "source": [
    "def score_margin(df):\n",
    "  '''\n",
    "  creates column of score margin for the pitcher's team\n",
    "  '''\n",
    "  df = df.copy()\n",
    "\n",
    "  df['score_margin'] = df['fld_score'] - df['bat_score']\n",
    "  df = df.drop(['fld_score', 'bat_score'], axis=1)\n",
    "\n",
    "  return df"
   ]
  },
  {
   "cell_type": "code",
   "execution_count": 16,
   "metadata": {
    "colab": {},
    "colab_type": "code",
    "id": "iLdxLZbz28oK"
   },
   "outputs": [],
   "source": [
    "def pitcher_advantage(df):\n",
    "  '''\n",
    "  creates column of pitcher advantage based on the ball/strike count\n",
    "  '''\n",
    "  df = df.copy()\n",
    "\n",
    "  advantages = {'0-0':'neutral', '0-1':'ahead', '0-2':'ahead', '1-0':'neutral', \n",
    "                '1-1':'neutral', '1-2':'ahead', '2-0':'behind', '2-1':'neutral',\n",
    "                '2-2':'ahead', '3-0':'behind', '3-1':'behind', '3-2':'neutral'}\n",
    "\n",
    "  df['count'] = df['balls'].astype(str) + '-' + df['strikes'].astype(str)\n",
    "  df['pitcher_advantage'] = df['count'].map(advantages)\n",
    "  df = df.drop('count', axis=1)\n",
    "\n",
    "  return df"
   ]
  },
  {
   "cell_type": "code",
   "execution_count": 17,
   "metadata": {
    "colab": {},
    "colab_type": "code",
    "id": "f5pWpSFn9vqj"
   },
   "outputs": [],
   "source": [
    "def baserunners_mapping(df):\n",
    "  '''\n",
    "  maps baserunner to boolean values and creates column if there is a baserunner \n",
    "  on any base\n",
    "  '''\n",
    "  df = df.copy()\n",
    "\n",
    "  df['on_1b'] = df['on_1b'].notnull()\n",
    "  df['on_2b'] = df['on_2b'].notnull()\n",
    "  df['on_3b'] = df['on_3b'].notnull()\n",
    "  \n",
    "  df['baserunner'] = df['on_1b'] | df['on_2b'] | df['on_3b']\n",
    "\n",
    "  return df"
   ]
  },
  {
   "cell_type": "code",
   "execution_count": 18,
   "metadata": {
    "colab": {},
    "colab_type": "code",
    "id": "vv2mIdKT_NMS"
   },
   "outputs": [],
   "source": [
    "def at_bat_counter(df):\n",
    "  '''\n",
    "  creates column of number of batters faced\n",
    "  '''\n",
    "  df = df.copy()\n",
    "\n",
    "  df['at_bat_count'] = df.groupby('at_bat_number').ngroup(ascending=True)+1\n",
    "  df = df.drop('at_bat_number', axis=1)\n",
    "\n",
    "  return df"
   ]
  },
  {
   "cell_type": "code",
   "execution_count": 19,
   "metadata": {
    "colab": {},
    "colab_type": "code",
    "id": "JbgCzp3fZGIY"
   },
   "outputs": [],
   "source": [
    "def pitch_encoding(df):\n",
    "  '''\n",
    "  creates columns of previous pitch for each pitch type using OneHotEncoder\n",
    "  '''\n",
    "  df = df.copy()\n",
    "\n",
    "  encoder = ce.OneHotEncoder(use_cat_names=True)\n",
    "  encoded = encoder.fit_transform(df['previous_pitch'])\n",
    "  df = pd.merge(df, encoded, how='outer', on=df.index)\n",
    "  df = df.drop(['key_0', 'previous_pitch_nan'], axis=1)\n",
    "  \n",
    "  return df"
   ]
  },
  {
   "cell_type": "code",
   "execution_count": 20,
   "metadata": {
    "colab": {},
    "colab_type": "code",
    "id": "sf7A465TYgIS"
   },
   "outputs": [],
   "source": [
    "def pitch_counter(df):\n",
    "  '''\n",
    "  creates columuns of cumulative count of each specific pitch type\n",
    "  '''\n",
    "  df = df.copy()\n",
    "\n",
    "  pitches = [col for col in df if col.startswith('previous_pitch_')]\n",
    "  \n",
    "  for pitch in pitches:\n",
    "    df[f'count_{pitch[-2:]}'] = (df[pitch] == 1).cumsum()\n",
    "\n",
    "  return df"
   ]
  },
  {
   "cell_type": "code",
   "execution_count": 59,
   "metadata": {
    "colab": {},
    "colab_type": "code",
    "id": "6RSMf17lYil-"
   },
   "outputs": [],
   "source": [
    "def pitch_tendency(df, window):\n",
    "  '''\n",
    "  creates columns of pitch tendency (mean) over last n = window pitches for \n",
    "  each pitch type\n",
    "  '''\n",
    "  df = df.copy()\n",
    "\n",
    "  pitches = [col for col in df if col.startswith('previous_pitch_')]\n",
    "  \n",
    "  for pitch in pitches:\n",
    "#     df[f'{pitch[-2:]}_tendency_{window}'] = df[pitch].iloc[1:].rolling(\n",
    "    df[f'{pitch[-2:]}_tendency_{window}'] = df[pitch].rolling(\n",
    "        window, min_periods=1).mean()\n",
    "    \n",
    "  return df"
   ]
  },
  {
   "cell_type": "code",
   "execution_count": 22,
   "metadata": {
    "colab": {},
    "colab_type": "code",
    "id": "xgkhYdbUgB_l"
   },
   "outputs": [],
   "source": [
    "def strike_encoding(df):\n",
    "  '''\n",
    "  creates columns of strike pitch for each pitch type using OneHotEncoder\n",
    "  '''\n",
    "  df = df.copy()\n",
    "  \n",
    "  s = df['previous_strike'] == True\n",
    "  df['strike_pitch'] = s.mask(s, df['previous_pitch'])\n",
    "  \n",
    "  encoder = ce.OneHotEncoder(use_cat_names=True)\n",
    "  encoded = encoder.fit_transform(df['strike_pitch'])\n",
    "  df = pd.merge(df, encoded, how='outer', on=df.index)\n",
    "  df = df.drop(['key_0', 'strike_pitch_False', 'strike_pitch'], axis=1)\n",
    "  \n",
    "  return df"
   ]
  },
  {
   "cell_type": "code",
   "execution_count": 23,
   "metadata": {
    "colab": {},
    "colab_type": "code",
    "id": "IX4Ox2h6gB_q"
   },
   "outputs": [],
   "source": [
    "def strike_percentage(df, percentage=True):\n",
    "  '''\n",
    "  creates columns of strike percentage (or raw count) for each pitch type\n",
    "  * This could be further engineered to calculate percentage of total number of \n",
    "  strikes thrown rather than number of total pitches\n",
    "  '''\n",
    "  df = df.copy()\n",
    "\n",
    "  pitches = [col for col in df if col.startswith('strike_pitch_')]\n",
    "\n",
    "  for i in pitches:\n",
    "    if percentage:\n",
    "      df[f'{i[-2:]}_cumulative_strikes'] = (df[f'strike_pitch_{i[-2:]}'] == 1).cumsum() / df['pitch_total']\n",
    "    else:\n",
    "      df[f'{i[-2:]}_cumulative_strikes'] = (df[f'strike_pitch_{i[-2:]}'] == 1).cumsum()\n",
    "      \n",
    "  return df"
   ]
  },
  {
   "cell_type": "code",
   "execution_count": 24,
   "metadata": {
    "colab": {},
    "colab_type": "code",
    "id": "GCdfgTD4gB_v"
   },
   "outputs": [],
   "source": [
    "def strike_counter(df, window):\n",
    "  '''\n",
    "  creates columns of number of previous n (window) strikes thrown for each pitch \n",
    "  type\n",
    "  '''\n",
    "  df = df.copy()\n",
    "  \n",
    "  pitches = [col for col in df if col.startswith('strike_pitch_')]\n",
    "  \n",
    "  for i in pitches:\n",
    "    target = f'{i[-2:]}_strike_tendency_{window}'\n",
    "    df[target] = df[df[i] != 0][i].rolling(window, min_periods=1).sum()\n",
    "    df[target] = df[target].fillna(method='ffill')\n",
    "    df[target] = df[target].fillna(0)\n",
    "\n",
    "  return df"
   ]
  },
  {
   "cell_type": "code",
   "execution_count": 113,
   "metadata": {
    "colab": {},
    "colab_type": "code",
    "id": "mSHJmd2lobsX"
   },
   "outputs": [],
   "source": [
    "def wrangle_game(df):\n",
    "  '''\n",
    "  this function does data cleaning and feature engineering on a per game basis\n",
    "  '''\n",
    "  df = df.copy()\n",
    "\n",
    "  # CLEANING FUNCTIONS\n",
    "  df = reorder(df)\n",
    "  df = pitch_cleaning(df)\n",
    "  if df.empty:\n",
    "    return\n",
    "  df = historical_cleaning(df)\n",
    "\n",
    "  # FEATURE ENGINEERING FUNCTIONS\n",
    "  df = total_pitches(df)\n",
    "  df = score_margin(df)\n",
    "  df = pitcher_advantage(df)\n",
    "  df = baserunners_mapping(df)\n",
    "  df = at_bat_counter(df)\n",
    "  df = pitch_encoding(df)\n",
    "  df = pitch_counter(df)\n",
    "  \n",
    "  windows = [5, 10, 20]\n",
    "  for window in windows:\n",
    "    df = pitch_tendency(df, window) \n",
    "  df = strike_encoding(df)\n",
    "  df = strike_percentage(df, percentage=True)\n",
    "  for window in windows:\n",
    "    df = strike_counter(df, window)\n",
    "  \n",
    "  return df"
   ]
  },
  {
   "cell_type": "markdown",
   "metadata": {},
   "source": [
    "## DATA GATHERING\n",
    "\n",
    "---\n",
    "\n"
   ]
  },
  {
   "cell_type": "code",
   "execution_count": 194,
   "metadata": {},
   "outputs": [
    {
     "name": "stdout",
     "output_type": "stream",
     "text": [
      "Gathering player lookup table. This may take a moment.\n"
     ]
    },
    {
     "data": {
      "text/html": [
       "<div>\n",
       "<style scoped>\n",
       "    .dataframe tbody tr th:only-of-type {\n",
       "        vertical-align: middle;\n",
       "    }\n",
       "\n",
       "    .dataframe tbody tr th {\n",
       "        vertical-align: top;\n",
       "    }\n",
       "\n",
       "    .dataframe thead th {\n",
       "        text-align: right;\n",
       "    }\n",
       "</style>\n",
       "<table border=\"1\" class=\"dataframe\">\n",
       "  <thead>\n",
       "    <tr style=\"text-align: right;\">\n",
       "      <th></th>\n",
       "      <th>name_last</th>\n",
       "      <th>name_first</th>\n",
       "      <th>key_mlbam</th>\n",
       "      <th>key_retro</th>\n",
       "      <th>key_bbref</th>\n",
       "      <th>key_fangraphs</th>\n",
       "      <th>mlb_played_first</th>\n",
       "      <th>mlb_played_last</th>\n",
       "    </tr>\n",
       "  </thead>\n",
       "  <tbody>\n",
       "    <tr>\n",
       "      <td>0</td>\n",
       "      <td>berrios</td>\n",
       "      <td>jose</td>\n",
       "      <td>621244</td>\n",
       "      <td>berrj001</td>\n",
       "      <td>berrijo01</td>\n",
       "      <td>14168</td>\n",
       "      <td>2016.0</td>\n",
       "      <td>2019.0</td>\n",
       "    </tr>\n",
       "  </tbody>\n",
       "</table>\n",
       "</div>"
      ],
      "text/plain": [
       "  name_last name_first  key_mlbam key_retro  key_bbref  key_fangraphs  \\\n",
       "0   berrios       jose     621244  berrj001  berrijo01          14168   \n",
       "\n",
       "   mlb_played_first  mlb_played_last  \n",
       "0            2016.0           2019.0  "
      ]
     },
     "execution_count": 194,
     "metadata": {},
     "output_type": "execute_result"
    }
   ],
   "source": [
    "playerid_lookup('berrios', 'jose')"
   ]
  },
  {
   "cell_type": "code",
   "execution_count": 234,
   "metadata": {
    "colab": {},
    "colab_type": "code",
    "id": "bBzj0oYbgB_f"
   },
   "outputs": [],
   "source": [
    "target = 'pitch_type'\n",
    "features = ['pitch_name', 'pitch_type', 'game_date', 'stand', 'balls', \n",
    "            'strikes', 'on_3b', 'on_2b', 'on_1b', 'outs_when_up', 'inning', \n",
    "            'at_bat_number', 'bat_score', 'fld_score', 'type', 'zone']"
   ]
  },
  {
   "cell_type": "code",
   "execution_count": 235,
   "metadata": {
    "colab": {},
    "colab_type": "code",
    "id": "VEAhamyTDgPE"
   },
   "outputs": [
    {
     "name": "stdout",
     "output_type": "stream",
     "text": [
      "Gathering Player Data\n"
     ]
    }
   ],
   "source": [
    "def pitcher_wrangle(pitcher):\n",
    "  '''\n",
    "  gathers all available data on specific pitcher (prior to 2020 season)\n",
    "  '''\n",
    "\n",
    "  raw_data = statcast_pitcher('2008-04-01', '2020-01-01', pitcher)\n",
    "\n",
    "  df = pd.DataFrame()\n",
    "\n",
    "  games = raw_data['game_date'].unique().tolist()\n",
    "  \n",
    "  for game in games:\n",
    "    game_data = wrangle_game(raw_data[raw_data['game_date'] == game][features])\n",
    "    df = df.append(game_data, ignore_index=True, sort=False)\n",
    "    \n",
    "  return df\n",
    "\n",
    "df = pitcher_wrangle(621244)"
   ]
  },
  {
   "cell_type": "markdown",
   "metadata": {
    "colab_type": "text",
    "id": "gD6IWOLr-hp7"
   },
   "source": [
    "## MODEL\n",
    "\n",
    "---\n",
    "\n"
   ]
  },
  {
   "cell_type": "code",
   "execution_count": 236,
   "metadata": {
    "colab": {},
    "colab_type": "code",
    "id": "02MVPOEO_XC5"
   },
   "outputs": [],
   "source": [
    "# MOVE TO TOP WHEN FINISHED\n",
    "from sklearn.ensemble import RandomForestClassifier\n",
    "from sklearn.impute import SimpleImputer\n",
    "from sklearn.metrics import accuracy_score\n",
    "from sklearn.model_selection import train_test_split\n",
    "from sklearn.pipeline import make_pipeline\n",
    "from xgboost import XGBClassifier"
   ]
  },
  {
   "cell_type": "code",
   "execution_count": 179,
   "metadata": {
    "colab": {},
    "colab_type": "code",
    "id": "_HAcWFGigCAf"
   },
   "outputs": [],
   "source": [
    "def log_model(txt_file='model_log.txt'):\n",
    "    with open(txt_file, 'a') as file:\n",
    "        file.write(f'Validation accuracy: {model.score(X_val_processed, y_val):.5f}\\n')\n",
    "        file.write(f'Features: {X_train.columns}\\n')\n",
    "        file.write(f'{model.get_params}\\n')\n",
    "        file.write('\\n')\n",
    "        file.close()"
   ]
  },
  {
   "cell_type": "code",
   "execution_count": 197,
   "metadata": {
    "colab": {
     "base_uri": "https://localhost:8080/",
     "height": 34
    },
    "colab_type": "code",
    "id": "ufAo7_OEEVWs",
    "outputId": "9e38fe8b-add8-43b3-b594-201eda5fc0f2"
   },
   "outputs": [],
   "source": [
    "train, test = train_test_split(df, train_size=0.8, random_state=42)\n",
    "train, val = train_test_split(train, train_size=0.8, random_state=42)"
   ]
  },
  {
   "cell_type": "code",
   "execution_count": 198,
   "metadata": {
    "colab": {},
    "colab_type": "code",
    "id": "ynrcu-HQEifS"
   },
   "outputs": [],
   "source": [
    "target = 'pitch_type'\n",
    "features = df.columns.drop([target, 'game_date'])\n",
    "\n",
    "X_train = train[features]\n",
    "y_train = train[target]\n",
    "X_val = val[features]\n",
    "y_val = val[target]\n",
    "X_test = test[features]\n",
    "y_test = test[target]"
   ]
  },
  {
   "cell_type": "code",
   "execution_count": 224,
   "metadata": {
    "colab": {
     "base_uri": "https://localhost:8080/",
     "height": 52
    },
    "colab_type": "code",
    "id": "dpzz7iZn_K6j",
    "outputId": "b2c7b628-61e5-4ae2-a999-5bc67fdcbec3"
   },
   "outputs": [
    {
     "data": {
      "text/plain": [
       "RandomForestClassifier(bootstrap=True, ccp_alpha=0.0, class_weight=None,\n",
       "                       criterion='gini', max_depth=9, max_features=16,\n",
       "                       max_leaf_nodes=None, max_samples=None,\n",
       "                       min_impurity_decrease=0.0, min_impurity_split=None,\n",
       "                       min_samples_leaf=1, min_samples_split=2,\n",
       "                       min_weight_fraction_leaf=0.0, n_estimators=100,\n",
       "                       n_jobs=-1, oob_score=False, random_state=42, verbose=0,\n",
       "                       warm_start=False)"
      ]
     },
     "execution_count": 224,
     "metadata": {},
     "output_type": "execute_result"
    }
   ],
   "source": [
    "processor = make_pipeline(\n",
    "    ce.OrdinalEncoder(),\n",
    "    SimpleImputer(strategy='mean')\n",
    ")\n",
    "X_train_processed = processor.fit_transform(X_train)\n",
    "X_val_processed = processor.transform(X_val)\n",
    "\n",
    "model = RandomForestClassifier(\n",
    "                               n_estimators=100, \n",
    "                               max_features=16,\n",
    "                               max_depth=9, \n",
    "                               random_state=42, \n",
    "                               n_jobs=-1)\n",
    "model.fit(X_train_processed, y_train)"
   ]
  },
  {
   "cell_type": "code",
   "execution_count": 223,
   "metadata": {},
   "outputs": [
    {
     "name": "stdout",
     "output_type": "stream",
     "text": [
      "Baseline Accuracy: 0.32516\n",
      "Train Accuracy: 0.65097\n",
      "Validation Accuracy: 0.43076\n"
     ]
    }
   ],
   "source": [
    "baseline = df['pitch_type'].value_counts(normalize=True)[0]\n",
    "print(f'Baseline Accuracy: {baseline:.5f}')\n",
    "print(f'Train Accuracy: {model.score(X_train_processed, y_train):.5f}')\n",
    "print(f'Validation Accuracy: {model.score(X_val_processed, y_val):.5f}')"
   ]
  },
  {
   "cell_type": "markdown",
   "metadata": {},
   "source": [
    "\n",
    "\n",
    "---\n",
    "\n",
    "\n"
   ]
  },
  {
   "cell_type": "code",
   "execution_count": 260,
   "metadata": {},
   "outputs": [],
   "source": [
    "from sklearn.model_selection import RandomizedSearchCV\n",
    "from sklearn.feature_selection import f_regression, SelectKBest\n",
    "from scipy.stats import randint, uniform\n",
    "\n",
    "target = 'pitch_type'\n",
    "features = df.columns.drop([target, 'game_date'])\n",
    "train, test = train_test_split(df, train_size=0.8, random_state=0)\n",
    "X_train = train[features]\n",
    "y_train = train[target]\n",
    "X_test = test[features]\n",
    "y_test = test[target]\n",
    "\n",
    "pipeline = make_pipeline(\n",
    "    ce.OrdinalEncoder(), \n",
    "    SimpleImputer(), \n",
    "#     SelectKBest(f_regression), \n",
    "    RandomForestClassifier()\n",
    ")\n",
    "\n",
    "param_distributions = {\n",
    "  'simpleimputer__strategy': ['mean', 'median'], \n",
    "#   'selectkbest__k': range(1, len(X_train.columns)+1), \n",
    "  'randomforestclassifier__n_estimators': randint(100, 200), \n",
    "#   'randomforestclassifier__max_features': range(1, 26), \n",
    "  'randomforestclassifier__max_features': uniform(0, 1), \n",
    "  'randomforestclassifier__max_depth': [5, 10, 15, 20, None], \n",
    "  'randomforestclassifier__min_samples_split': range(2, 11), \n",
    "}\n",
    "\n",
    "search = RandomizedSearchCV(\n",
    "  pipeline, \n",
    "  param_distributions=param_distributions, \n",
    "  n_iter=10, \n",
    "  cv=5, \n",
    "  scoring='accuracy', \n",
    "  verbose=10, \n",
    "  return_train_score=True, \n",
    "  n_jobs=-1\n",
    ")"
   ]
  },
  {
   "cell_type": "code",
   "execution_count": 261,
   "metadata": {},
   "outputs": [
    {
     "name": "stdout",
     "output_type": "stream",
     "text": [
      "Fitting 5 folds for each of 10 candidates, totalling 50 fits\n"
     ]
    },
    {
     "name": "stderr",
     "output_type": "stream",
     "text": [
      "[Parallel(n_jobs=-1)]: Using backend LokyBackend with 8 concurrent workers.\n",
      "[Parallel(n_jobs=-1)]: Done   2 tasks      | elapsed:    6.2s\n",
      "[Parallel(n_jobs=-1)]: Done   9 tasks      | elapsed:   13.9s\n",
      "[Parallel(n_jobs=-1)]: Done  16 tasks      | elapsed:   22.0s\n",
      "[Parallel(n_jobs=-1)]: Done  25 tasks      | elapsed:   31.6s\n",
      "[Parallel(n_jobs=-1)]: Done  34 tasks      | elapsed:   47.2s\n",
      "[Parallel(n_jobs=-1)]: Done  41 out of  50 | elapsed:   56.1s remaining:   12.3s\n",
      "[Parallel(n_jobs=-1)]: Done  47 out of  50 | elapsed:   58.8s remaining:    3.8s\n",
      "[Parallel(n_jobs=-1)]: Done  50 out of  50 | elapsed:  1.0min finished\n"
     ]
    },
    {
     "data": {
      "text/plain": [
       "RandomizedSearchCV(cv=5, error_score=nan,\n",
       "                   estimator=Pipeline(memory=None,\n",
       "                                      steps=[('ordinalencoder',\n",
       "                                              OrdinalEncoder(cols=None,\n",
       "                                                             drop_invariant=False,\n",
       "                                                             handle_missing='value',\n",
       "                                                             handle_unknown='value',\n",
       "                                                             mapping=None,\n",
       "                                                             return_df=True,\n",
       "                                                             verbose=0)),\n",
       "                                             ('simpleimputer',\n",
       "                                              SimpleImputer(add_indicator=False,\n",
       "                                                            copy=True,\n",
       "                                                            fill_value=None,\n",
       "                                                            missing_values=nan,\n",
       "                                                            strategy='mean',\n",
       "                                                            verbose=0)...\n",
       "                                        'randomforestclassifier__max_features': <scipy.stats._distn_infrastructure.rv_frozen object at 0x1a526e9350>,\n",
       "                                        'randomforestclassifier__min_samples_split': range(2, 11),\n",
       "                                        'randomforestclassifier__n_estimators': <scipy.stats._distn_infrastructure.rv_frozen object at 0x1a43d673d0>,\n",
       "                                        'simpleimputer__strategy': ['mean',\n",
       "                                                                    'median']},\n",
       "                   pre_dispatch='2*n_jobs', random_state=None, refit=True,\n",
       "                   return_train_score=True, scoring='accuracy', verbose=10)"
      ]
     },
     "execution_count": 261,
     "metadata": {},
     "output_type": "execute_result"
    }
   ],
   "source": [
    "search.fit(X_train, y_train)"
   ]
  },
  {
   "cell_type": "code",
   "execution_count": 262,
   "metadata": {},
   "outputs": [
    {
     "data": {
      "text/plain": [
       "{'randomforestclassifier__max_depth': 10,\n",
       " 'randomforestclassifier__max_features': 0.8871231883456001,\n",
       " 'randomforestclassifier__min_samples_split': 8,\n",
       " 'randomforestclassifier__n_estimators': 160,\n",
       " 'simpleimputer__strategy': 'median'}"
      ]
     },
     "execution_count": 262,
     "metadata": {},
     "output_type": "execute_result"
    }
   ],
   "source": [
    "search.best_params_"
   ]
  },
  {
   "cell_type": "code",
   "execution_count": 263,
   "metadata": {},
   "outputs": [
    {
     "data": {
      "text/plain": [
       "0.4191224496948151"
      ]
     },
     "execution_count": 263,
     "metadata": {},
     "output_type": "execute_result"
    }
   ],
   "source": [
    "search.best_score_"
   ]
  },
  {
   "cell_type": "markdown",
   "metadata": {
    "colab_type": "text",
    "id": "4CxFN0wpnOSS"
   },
   "source": [
    "## MISC\n",
    "\n",
    "---\n",
    "\n"
   ]
  },
  {
   "cell_type": "code",
   "execution_count": null,
   "metadata": {
    "colab": {},
    "colab_type": "code",
    "id": "V6BqReG28l0r"
   },
   "outputs": [],
   "source": [
    "def pitch_map(df):\n",
    "  '''\n",
    "  generates dictionary mapping 'pitch_type' to 'pitch_name'\n",
    "  '''\n",
    "  df = df.copy()\n",
    "\n",
    "  df = df.dropna(subset=['pitch_type', 'pitch_name'])\n",
    "  pitch_types = df['pitch_name'].unique().tolist()\n",
    "  pitch_types_abv = [i.lower() for i in df['pitch_type'].unique().tolist()]\n",
    "  \n",
    "  return dict(zip(pitch_types_abv, pitch_types))\n",
    "\n",
    "# sample = 'https://raw.githubusercontent.com/michael-rowland/Pitch-Predictions/master/sample.csv'\n",
    "# df = pd.read_csv(sample)\n",
    "# df = df[df['game_date'] == '2018-09-28']"
   ]
  }
 ],
 "metadata": {
  "colab": {
   "collapsed_sections": [],
   "include_colab_link": true,
   "name": "Pitch-Predictions.ipynb",
   "provenance": []
  },
  "kernelspec": {
   "display_name": "Python 3",
   "language": "python",
   "name": "python3"
  },
  "language_info": {
   "codemirror_mode": {
    "name": "ipython",
    "version": 3
   },
   "file_extension": ".py",
   "mimetype": "text/x-python",
   "name": "python",
   "nbconvert_exporter": "python",
   "pygments_lexer": "ipython3",
   "version": "3.7.4"
  }
 },
 "nbformat": 4,
 "nbformat_minor": 4
}
