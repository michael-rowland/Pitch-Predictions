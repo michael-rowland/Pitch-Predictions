{
  "nbformat": 4,
  "nbformat_minor": 0,
  "metadata": {
    "colab": {
      "name": "Pitch-Predictions.ipynb",
      "provenance": [],
      "collapsed_sections": []
    },
    "kernelspec": {
      "display_name": "Python 3",
      "language": "python",
      "name": "python3"
    },
    "language_info": {
      "codemirror_mode": {
        "name": "ipython",
        "version": 3
      },
      "file_extension": ".py",
      "mimetype": "text/x-python",
      "name": "python",
      "nbconvert_exporter": "python",
      "pygments_lexer": "ipython3",
      "version": "3.7.4"
    }
  },
  "cells": [
    {
      "cell_type": "markdown",
      "metadata": {
        "id": "mnFT2mPp6rte",
        "colab_type": "text"
      },
      "source": [
        "## BASEBALL PITCH PREDICTIONS\n",
        "\n",
        "Baseball has long been one of America’s oldest and most popular sports. In addition to its long history, baseball has been on the forefront of the sports “analytics” movement. This analytical approach, called sabermetrics, was pioneered in the 1970’s and 1980’s by Bill James and others, and was brought to prominence in the early 2000’s by Billy Beane’s Oakland Athletics, chronicled by Michael Lewis’ book Moneyball. The history of analytics within the sport, combined with the discrete nature of the game — individual pitches and game events — make baseball data readily available and accessible. One such data source is MLB’s publicly available, PITCHf/x database, in which data is gathered on a per pitch basis using cameras and sensors throughout all 30 major league ballparks.\n",
        "\n",
        "Throughout a game, each team’s pitchers will throw the ball over 100 times. Not only do each pitcher hold and throw the ball different from one another, but an individual pitcher often throws the ball with different grips and arm mechanics causing the ball to move differently over the 60 feet, 6 inches between the pitching mound and home plate. The variation between pitch speed, movement, and location, is the primary way a pitcher is able to gain an advantage over the batter. The mix of pitches a player throws varies within games, as well as throughout a season. Should the batter know what pitch type will be thrown next, this advantage is reduced significantly. The recent sign stealing scandal involving the Houston Astros revolves around illegally intercepting pitch signs, and highlights the market for this information.\n",
        "\n",
        "**Using machine learning techniques, I wondered was it possible to predict what type of pitch would come next?**\n",
        "\n",
        "For the sake of this blog post, and as a starting point of this analysis, I have limited my dataset to just one pitcher, Jose Berrios. I chose to focus on Berrios for a few reasons. First as a “proof of concept” that these ideas and techniques can be applied to other pitchers (see further development section). Second, Berrios is a starting pitcher resulting in more pitches thrown throughout an individual game, and more data than many other pitchers. Third, Berrios varies his pitches between four different pitch types, causing there to be greater gains from correct predictions."
      ]
    },
    {
      "cell_type": "markdown",
      "metadata": {
        "colab_type": "text",
        "id": "OJcWLt0IjSpi"
      },
      "source": [
        "## SETUP\n",
        "\n",
        "---\n",
        "\n"
      ]
    },
    {
      "cell_type": "code",
      "metadata": {
        "colab_type": "code",
        "id": "d536ZH3bNNoR",
        "colab": {}
      },
      "source": [
        "%%capture\n",
        "import sys\n",
        "\n",
        "# If you're on Colab:\n",
        "if 'google.colab' in sys.modules:\n",
        "    !pip install category_encoders==2.*\n",
        "    !pip install pybaseball\n",
        "\n",
        "# If you're working locally:\n",
        "else:\n",
        "    DATA_PATH = '../data/'"
      ],
      "execution_count": 0,
      "outputs": []
    },
    {
      "cell_type": "code",
      "metadata": {
        "colab_type": "code",
        "id": "Zx9VsN0oTWm4",
        "colab": {}
      },
      "source": [
        "import category_encoders as ce\n",
        "import matplotlib.pyplot as plt\n",
        "import numpy as np\n",
        "import pandas as pd\n",
        "from pybaseball import statcast_pitcher, playerid_lookup\n",
        "from sklearn.ensemble import RandomForestClassifier\n",
        "from sklearn.impute import SimpleImputer\n",
        "from sklearn.linear_model import LogisticRegression\n",
        "from sklearn.metrics import accuracy_score\n",
        "from sklearn.model_selection import train_test_split\n",
        "from sklearn.pipeline import make_pipeline"
      ],
      "execution_count": 0,
      "outputs": []
    },
    {
      "cell_type": "markdown",
      "metadata": {
        "colab_type": "text",
        "id": "DZq5fEQYyyde"
      },
      "source": [
        "## DATA GATHERING\n",
        "\n",
        "---\n",
        "\n"
      ]
    },
    {
      "cell_type": "markdown",
      "metadata": {
        "id": "LR1cNqAt7zYz",
        "colab_type": "text"
      },
      "source": [
        "Here we are using the **pybaseball** package to gather relevant data"
      ]
    },
    {
      "cell_type": "code",
      "metadata": {
        "colab_type": "code",
        "id": "oMi8iQVSyydh",
        "outputId": "7ab09099-b4a1-47fe-9385-473dc6b1a722",
        "colab": {
          "base_uri": "https://localhost:8080/",
          "height": 34
        }
      },
      "source": [
        "berrios_id = playerid_lookup('berrios', 'jose').loc[0, 'key_mlbam']"
      ],
      "execution_count": 254,
      "outputs": [
        {
          "output_type": "stream",
          "text": [
            "Gathering player lookup table. This may take a moment.\n"
          ],
          "name": "stdout"
        }
      ]
    },
    {
      "cell_type": "code",
      "metadata": {
        "colab_type": "code",
        "id": "4nUPGtYCyyd5",
        "outputId": "796aab32-cf16-41d9-de5d-2910b257e056",
        "colab": {
          "base_uri": "https://localhost:8080/",
          "height": 34
        }
      },
      "source": [
        "berrios = statcast_pitcher('2008-04-01', '2020-01-01', berrios_id)"
      ],
      "execution_count": 255,
      "outputs": [
        {
          "output_type": "stream",
          "text": [
            "Gathering Player Data\n"
          ],
          "name": "stdout"
        }
      ]
    },
    {
      "cell_type": "markdown",
      "metadata": {
        "colab_type": "text",
        "id": "kPOjdQMtiCzb"
      },
      "source": [
        "## DATA CLEANING\n",
        "\n",
        "---\n",
        "\n"
      ]
    },
    {
      "cell_type": "code",
      "metadata": {
        "colab_type": "code",
        "id": "Ub2a5qyllXw4",
        "colab": {}
      },
      "source": [
        "def reorder(df):\n",
        "  '''\n",
        "  reorders pitches in ascending order\n",
        "  '''\n",
        "  df = df.copy()\n",
        "\n",
        "  df = df.reindex(index=df.index[::-1])\n",
        "  df = df.reset_index(drop=True)\n",
        "\n",
        "  return df"
      ],
      "execution_count": 0,
      "outputs": []
    },
    {
      "cell_type": "markdown",
      "metadata": {
        "id": "WjFjzQjK8MT1",
        "colab_type": "text"
      },
      "source": [
        "Here we have to remove non-standard pitch types, like pitch-outs, which occur infrequently and are typically a response to events not under the pitchers control."
      ]
    },
    {
      "cell_type": "code",
      "metadata": {
        "colab_type": "code",
        "id": "hBJ_cQukIIhQ",
        "colab": {}
      },
      "source": [
        "def pitch_cleaning(df):\n",
        "  '''\n",
        "  cleans target ('pitch_type'), dropping NaN's (bad data) and non-standard \n",
        "  pitches\n",
        "  '''\n",
        "  df = df.copy()\n",
        "\n",
        "  df = df.dropna(subset=['pitch_type'])\n",
        "  \n",
        "  df['pitch_type'] = df['pitch_type'].str.lower()\n",
        "  remove_pitches = ['po', 'in', 'un']\n",
        "  df = df[~df['pitch_type'].isin(remove_pitches)]\n",
        "\n",
        "  return df"
      ],
      "execution_count": 0,
      "outputs": []
    },
    {
      "cell_type": "markdown",
      "metadata": {
        "id": "LlMORAMt8hQA",
        "colab_type": "text"
      },
      "source": [
        "This function moves data about the current pitch, to a historical context, to prevent data leakage."
      ]
    },
    {
      "cell_type": "code",
      "metadata": {
        "colab_type": "code",
        "id": "vAknmNqXkwl5",
        "colab": {}
      },
      "source": [
        "def historical_cleaning(df):\n",
        "  '''\n",
        "  shifts relevant historical data to prevent data leakage\n",
        "  '''\n",
        "  df = df.copy()\n",
        "\n",
        "  df['previous_pitch'] = df['pitch_type'].shift(1)\n",
        "  df['previous_strike'] = df['type'].shift(1) == 'S'\n",
        "  df['previous_zone'] = df['zone'].shift(1)\n",
        "  df = df.drop(['type', 'zone'], axis=1)\n",
        "  fill_na = ['previous_pitch', 'previous_zone']\n",
        "  df[fill_na] = df[fill_na].fillna(0)\n",
        "\n",
        "  return df"
      ],
      "execution_count": 0,
      "outputs": []
    },
    {
      "cell_type": "markdown",
      "metadata": {
        "colab_type": "text",
        "id": "5LDyftn--AAg"
      },
      "source": [
        "## DATA PROCESSING\n",
        "\n",
        "---\n"
      ]
    },
    {
      "cell_type": "code",
      "metadata": {
        "colab_type": "code",
        "id": "8-kLatuYzfWJ",
        "colab": {}
      },
      "source": [
        "def total_pitches(df):\n",
        "  '''\n",
        "  creates column of total pitches prior to current/target pitch\n",
        "  '''\n",
        "  df = df.copy()\n",
        "\n",
        "  df['pitch_total'] = df.groupby('game_date').cumcount(ascending=True)\n",
        "\n",
        "  return df"
      ],
      "execution_count": 0,
      "outputs": []
    },
    {
      "cell_type": "code",
      "metadata": {
        "colab_type": "code",
        "id": "9xVEscXA1Jqo",
        "colab": {}
      },
      "source": [
        "def score_margin(df):\n",
        "  '''\n",
        "  creates column of score margin for the pitcher's team\n",
        "  '''\n",
        "  df = df.copy()\n",
        "\n",
        "  df['score_margin'] = df['fld_score'] - df['bat_score']\n",
        "  df = df.drop(['fld_score', 'bat_score'], axis=1)\n",
        "\n",
        "  return df"
      ],
      "execution_count": 0,
      "outputs": []
    },
    {
      "cell_type": "markdown",
      "metadata": {
        "id": "MBiVn9O584c4",
        "colab_type": "text"
      },
      "source": [
        "The pitcher advantage column is encoded based on the ball-strike count. This encoding is based on baseball familiarity, and could likely be interpreted differently by different people."
      ]
    },
    {
      "cell_type": "code",
      "metadata": {
        "colab_type": "code",
        "id": "iLdxLZbz28oK",
        "colab": {}
      },
      "source": [
        "def pitcher_advantage(df):\n",
        "  '''\n",
        "  creates column of pitcher advantage based on the ball/strike count\n",
        "  '''\n",
        "  df = df.copy()\n",
        "\n",
        "  advantages = {'0-0':'neutral', '0-1':'ahead', '0-2':'ahead', '1-0':'neutral', \n",
        "                '1-1':'neutral', '1-2':'ahead', '2-0':'behind', '2-1':'neutral',\n",
        "                '2-2':'ahead', '3-0':'behind', '3-1':'behind', '3-2':'neutral'}\n",
        "\n",
        "  df['count'] = df['balls'].astype(str) + '-' + df['strikes'].astype(str)\n",
        "  df['pitcher_advantage'] = df['count'].map(advantages)\n",
        "  df = df.drop('count', axis=1)\n",
        "\n",
        "  return df"
      ],
      "execution_count": 0,
      "outputs": []
    },
    {
      "cell_type": "code",
      "metadata": {
        "colab_type": "code",
        "id": "f5pWpSFn9vqj",
        "colab": {}
      },
      "source": [
        "def baserunners_mapping(df):\n",
        "  '''\n",
        "  maps baserunner to boolean values and creates column if there is a baserunner \n",
        "  on any base\n",
        "  '''\n",
        "  df = df.copy()\n",
        "\n",
        "  df['on_1b'] = df['on_1b'].notnull()\n",
        "  df['on_2b'] = df['on_2b'].notnull()\n",
        "  df['on_3b'] = df['on_3b'].notnull()\n",
        "  \n",
        "  df['baserunner'] = df['on_1b'] | df['on_2b'] | df['on_3b']\n",
        "\n",
        "  return df"
      ],
      "execution_count": 0,
      "outputs": []
    },
    {
      "cell_type": "code",
      "metadata": {
        "colab_type": "code",
        "id": "vv2mIdKT_NMS",
        "colab": {}
      },
      "source": [
        "def at_bat_counter(df):\n",
        "  '''\n",
        "  creates column of number of batters faced\n",
        "  '''\n",
        "  df = df.copy()\n",
        "\n",
        "  df['at_bat_count'] = df.groupby('at_bat_number').ngroup(ascending=True)+1\n",
        "  df = df.drop('at_bat_number', axis=1)\n",
        "\n",
        "  return df"
      ],
      "execution_count": 0,
      "outputs": []
    },
    {
      "cell_type": "markdown",
      "metadata": {
        "id": "oIMbwVRa9Z_y",
        "colab_type": "text"
      },
      "source": [
        "In order to generate \"pitch tendency\" statistics, the previous pitch must be encoded into seperate columns"
      ]
    },
    {
      "cell_type": "code",
      "metadata": {
        "colab_type": "code",
        "id": "JbgCzp3fZGIY",
        "colab": {}
      },
      "source": [
        "def pitch_encoding(df):\n",
        "  '''\n",
        "  creates columns of previous pitch for each pitch type using OneHotEncoder\n",
        "  '''\n",
        "  df = df.copy()\n",
        "\n",
        "  encoder = ce.OneHotEncoder(use_cat_names=True)\n",
        "  encoded = encoder.fit_transform(df['previous_pitch'])\n",
        "  df = pd.merge(df, encoded, how='outer', on=df.index)\n",
        "  df = df.drop(['key_0', 'previous_pitch_0'], axis=1)\n",
        "  \n",
        "  return df"
      ],
      "execution_count": 0,
      "outputs": []
    },
    {
      "cell_type": "code",
      "metadata": {
        "colab_type": "code",
        "id": "sf7A465TYgIS",
        "colab": {}
      },
      "source": [
        "def pitch_counter(df):\n",
        "  '''\n",
        "  creates columuns of cumulative count of each specific pitch type\n",
        "  '''\n",
        "  df = df.copy()\n",
        "\n",
        "  pitches = [col for col in df if col.startswith('previous_pitch_')]\n",
        "  \n",
        "  for pitch in pitches:\n",
        "    df[f'count_{pitch[-2:]}'] = (df[pitch] == 1).cumsum()\n",
        "\n",
        "  return df"
      ],
      "execution_count": 0,
      "outputs": []
    },
    {
      "cell_type": "code",
      "metadata": {
        "colab_type": "code",
        "id": "6RSMf17lYil-",
        "colab": {}
      },
      "source": [
        "def pitch_tendency(df, window):\n",
        "  '''\n",
        "  creates columns of pitch tendency (mean) over last n = window pitches for \n",
        "  each pitch type\n",
        "  '''\n",
        "  df = df.copy()\n",
        "\n",
        "  pitches = [col for col in df if col.startswith('previous_pitch_')]\n",
        "  \n",
        "  for pitch in pitches:\n",
        "    df[f'{pitch[-2:]}_tendency_{window}'] = df[pitch].rolling(\n",
        "        window, min_periods=1).mean()\n",
        "    \n",
        "  return df"
      ],
      "execution_count": 0,
      "outputs": []
    },
    {
      "cell_type": "markdown",
      "metadata": {
        "id": "ewqu_ETw9o1T",
        "colab_type": "text"
      },
      "source": [
        "To generate \"strike tendency\" statistics, a check is performed if the previous pitch was a strike, and then it is encoded similar to \"pitch tendency\" above. "
      ]
    },
    {
      "cell_type": "code",
      "metadata": {
        "colab_type": "code",
        "id": "xgkhYdbUgB_l",
        "colab": {}
      },
      "source": [
        "def strike_encoding(df):\n",
        "  '''\n",
        "  creates columns of strike pitch for each pitch type using OneHotEncoder\n",
        "  '''\n",
        "  df = df.copy()\n",
        "  \n",
        "  s = df['previous_strike'] == True\n",
        "  df['strike_pitch'] = s.mask(s, df['previous_pitch'])\n",
        "  \n",
        "  encoder = ce.OneHotEncoder(use_cat_names=True)\n",
        "  encoded = encoder.fit_transform(df['strike_pitch'])\n",
        "  df = pd.merge(df, encoded, how='outer', on=df.index)\n",
        "  df = df.drop(['key_0', 'strike_pitch_False', 'strike_pitch'], \n",
        "               axis=1, errors='ignore')\n",
        "  \n",
        "  return df"
      ],
      "execution_count": 0,
      "outputs": []
    },
    {
      "cell_type": "markdown",
      "metadata": {
        "colab_type": "text",
        "id": "LmO6QCEfO58M"
      },
      "source": [
        "This strike_percentage function calculates the tendency (percentage, or cumulative total) of a pitcher to throw a strike with a specific pitch. This could be further developed to calculate percentage of total number of strikes thrown rather than number of total pitches.\n"
      ]
    },
    {
      "cell_type": "code",
      "metadata": {
        "colab_type": "code",
        "id": "IX4Ox2h6gB_q",
        "colab": {}
      },
      "source": [
        "def strike_percentage(df, percentage=True):\n",
        "  '''\n",
        "  creates columns of strike percentage (or raw count) for each pitch type\n",
        "  '''\n",
        "  df = df.copy()\n",
        "\n",
        "  pitches = [col for col in df if col.startswith('strike_pitch_')]\n",
        "\n",
        "  for i in pitches:\n",
        "    target = f'{i[-2:]}_cumulative_strikes'\n",
        "    if percentage:\n",
        "      df[target] = (df[f'strike_pitch_{i[-2:]}'] == 1).cumsum() / df['pitch_total']\n",
        "    else:\n",
        "      df[target] = (df[f'strike_pitch_{i[-2:]}'] == 1).cumsum()\n",
        "    df[target] = df[target].fillna(0)\n",
        "      \n",
        "  return df"
      ],
      "execution_count": 0,
      "outputs": []
    },
    {
      "cell_type": "code",
      "metadata": {
        "colab_type": "code",
        "id": "GCdfgTD4gB_v",
        "colab": {}
      },
      "source": [
        "def strike_counter(df, window):\n",
        "  '''\n",
        "  creates columns of number of previous n (window) strikes thrown for each pitch \n",
        "  type\n",
        "  '''\n",
        "  df = df.copy()\n",
        "  \n",
        "  pitches = [col for col in df if col.startswith('strike_pitch_')]\n",
        "  \n",
        "  for i in pitches:\n",
        "    target = f'{i[-2:]}_strike_tendency_{window}'\n",
        "    df[target] = df[df[i] != 0][i].rolling(window, min_periods=1).sum()\n",
        "    df[target] = df[target].fillna(method='ffill')\n",
        "    df[target] = df[target].fillna(0)\n",
        "\n",
        "  return df"
      ],
      "execution_count": 0,
      "outputs": []
    },
    {
      "cell_type": "code",
      "metadata": {
        "colab_type": "code",
        "id": "mSHJmd2lobsX",
        "colab": {}
      },
      "source": [
        "def wrangle_game(df):\n",
        "  '''\n",
        "  this function does data cleaning and feature engineering on a per game basis\n",
        "  '''\n",
        "  df = df.copy()\n",
        "\n",
        "  # CLEANING FUNCTIONS\n",
        "  df = reorder(df)\n",
        "  df = pitch_cleaning(df)\n",
        "  if df.empty:\n",
        "    return\n",
        "  df = historical_cleaning(df)\n",
        "\n",
        "  # FEATURE ENGINEERING FUNCTIONS\n",
        "  df = total_pitches(df)\n",
        "  df = score_margin(df)\n",
        "  df = pitcher_advantage(df)\n",
        "  df = baserunners_mapping(df)\n",
        "  df = at_bat_counter(df)\n",
        "  df = pitch_encoding(df)\n",
        "  df = pitch_counter(df)\n",
        "  windows = [5, 10, 20]\n",
        "  for window in windows:\n",
        "    df = pitch_tendency(df, window) \n",
        "  df = strike_encoding(df)\n",
        "  df = strike_percentage(df, percentage=True)\n",
        "  for window in windows:\n",
        "    df = strike_counter(df, window)\n",
        "  \n",
        "  return df"
      ],
      "execution_count": 0,
      "outputs": []
    },
    {
      "cell_type": "code",
      "metadata": {
        "colab_type": "code",
        "id": "VEAhamyTDgPE",
        "colab": {}
      },
      "source": [
        "def pitcher_wrangle(pitcher_data):\n",
        "  '''\n",
        "  the function merges all available data on specific pitcher applying the \n",
        "  'wrangle_game' function to each game\n",
        "  '''\n",
        "  df = pd.DataFrame()\n",
        "\n",
        "  games = pitcher_data['game_date'].unique().tolist()\n",
        "\n",
        "  features = ['pitch_type', 'game_date', 'stand', 'balls', 'strikes', 'on_3b', \n",
        "            'on_2b', 'on_1b', 'outs_when_up', 'inning', 'at_bat_number', \n",
        "            'bat_score', 'fld_score', 'type', 'zone']\n",
        "  \n",
        "  for game in games:\n",
        "    game_data = wrangle_game(pitcher_data[pitcher_data['game_date'] == game][features])\n",
        "    df = df.append(game_data, ignore_index=True, sort=False)\n",
        "    \n",
        "  return df"
      ],
      "execution_count": 0,
      "outputs": []
    },
    {
      "cell_type": "markdown",
      "metadata": {
        "id": "O4nw1jYA-fYd",
        "colab_type": "text"
      },
      "source": [
        "Finally, we call the above cleaning/wrangling functions on our raw data for Berrios."
      ]
    },
    {
      "cell_type": "code",
      "metadata": {
        "colab_type": "code",
        "id": "boCbJCYzyyfb",
        "colab": {}
      },
      "source": [
        "df = pitcher_wrangle(berrios)"
      ],
      "execution_count": 0,
      "outputs": []
    },
    {
      "cell_type": "markdown",
      "metadata": {
        "id": "VZmSYSBZjObG",
        "colab_type": "text"
      },
      "source": [
        "## EXPLORATORY VISUALIZATIONS\n",
        "\n",
        "\n",
        "---\n",
        "\n"
      ]
    },
    {
      "cell_type": "markdown",
      "metadata": {
        "id": "oEcgLRHn-o9s",
        "colab_type": "text"
      },
      "source": [
        "To emphasize the variability in pitches thrown, the graph below plots Berrios' pitch mix throughout his career."
      ]
    },
    {
      "cell_type": "code",
      "metadata": {
        "colab_type": "code",
        "id": "-VlUJAFkrSfQ",
        "colab": {}
      },
      "source": [
        "df['game_date'] = pd.to_datetime(df['game_date'])\n",
        "df['year'] = df['game_date'].dt.year\n",
        "df['month'] = df['game_date'].dt.month"
      ],
      "execution_count": 0,
      "outputs": []
    },
    {
      "cell_type": "code",
      "metadata": {
        "colab_type": "code",
        "id": "HZ0-IDmwsPl2",
        "colab": {}
      },
      "source": [
        "tendencies = df.groupby(['year', 'month']).mean()\n",
        "pitches = tendencies.columns.str.startswith('previous_pitch_')\n",
        "plot_data = tendencies.loc[:, pitches]\n",
        "plot_data.columns = ['Fastball', 'Two-Seam', 'Curveball', 'Changeup']"
      ],
      "execution_count": 0,
      "outputs": []
    },
    {
      "cell_type": "code",
      "metadata": {
        "colab_type": "code",
        "id": "ZnQmm1asm7Az",
        "outputId": "4002e8cb-88b5-4750-ee4b-98609feb3ecb",
        "colab": {
          "base_uri": "https://localhost:8080/",
          "height": 444
        }
      },
      "source": [
        "plt.style.use('fivethirtyeight')\n",
        "\n",
        "fig, ax = plt.subplots(figsize=(10, 6))\n",
        "\n",
        "for pitch in plot_data.columns:\n",
        "  plt.plot(range(len(plot_data)), plot_data[pitch], \n",
        "           label=pitch, linewidth=2)\n",
        "\n",
        "ax.legend()\n",
        "\n",
        "ax.set_title('Jose Berrios Pitch Mix', fontsize=22, fontweight='bold')\n",
        "ax.set_xlabel('Year', \n",
        "              fontsize=14, fontweight='bold', labelpad=10)\n",
        "ax.set_ylabel('Percentage of Pitches', \n",
        "              fontsize=14, fontweight='bold', labelpad=10)\n",
        "\n",
        "ax.set_xticks([0, 5, 11, 17])\n",
        "ax.set_xticklabels(range(2016, 2020))\n",
        "ax.set_yticklabels(range(-10,70,10))\n",
        "\n",
        "ax.axhline(y=0, color='black', linewidth=1)\n",
        "ax.axvline(x=0, color='black', linewidth=1)\n",
        "ax.text(x=21, y=-0.1, s='GitHub: michael-rowland', fontsize=8, color='grey')\n",
        "# plt.savefig('Pitch-Mix.png', format='png', dpi=300, bbox_inches='tight')\n",
        "plt.show()"
      ],
      "execution_count": 275,
      "outputs": [
        {
          "output_type": "display_data",
          "data": {
            "image/png": "[encoded data removed]",
            "text/plain": [
              "<Figure size 720x432 with 1 Axes>"
            ]
          },
          "metadata": {
            "tags": []
          }
        }
      ]
    },
    {
      "cell_type": "markdown",
      "metadata": {
        "id": "r44u0aj4kKii",
        "colab_type": "text"
      },
      "source": [
        "Using a simple bar plot, we can see Berrios pitch mix in 2019."
      ]
    },
    {
      "cell_type": "code",
      "metadata": {
        "id": "HBcOhQQShsKJ",
        "colab_type": "code",
        "colab": {}
      },
      "source": [
        "mix = df[df['game_date'].dt.year == 2019]['pitch_type'].value_counts()\n",
        "mix = mix.rename_axis('pitch_type').reset_index(name='counts')"
      ],
      "execution_count": 0,
      "outputs": []
    },
    {
      "cell_type": "code",
      "metadata": {
        "id": "dAGBC6W0hsKO",
        "colab_type": "code",
        "colab": {
          "base_uri": "https://localhost:8080/",
          "height": 398
        },
        "outputId": "76392b49-d8c3-47cb-d1cc-a93dce5988a3"
      },
      "source": [
        "fig, ax = plt.subplots(figsize=(10, 6))\n",
        "ax.bar(mix['pitch_type'], mix['counts'])\n",
        "plt.show()"
      ],
      "execution_count": 277,
      "outputs": [
        {
          "output_type": "display_data",
          "data": {
            "image/png": "[encoded data removed]",
            "text/plain": [
              "<Figure size 720x432 with 1 Axes>"
            ]
          },
          "metadata": {
            "tags": []
          }
        }
      ]
    },
    {
      "cell_type": "markdown",
      "metadata": {
        "colab_type": "text",
        "id": "gD6IWOLr-hp7"
      },
      "source": [
        "## RANDOM FOREST\n",
        "\n",
        "---\n",
        "\n"
      ]
    },
    {
      "cell_type": "markdown",
      "metadata": {
        "id": "5h4snMBakWs9",
        "colab_type": "text"
      },
      "source": [
        "While this function is not called throughout this notebook, it was useful in tracking model accuracy during development."
      ]
    },
    {
      "cell_type": "code",
      "metadata": {
        "colab_type": "code",
        "id": "_HAcWFGigCAf",
        "colab": {}
      },
      "source": [
        "def log_model(txt_file='model_log.txt'):\n",
        "    with open(txt_file, 'a') as file:\n",
        "        file.write(f'Validation accuracy: {model.score(X_val_processed, y_val):.5f}\\n')\n",
        "        file.write(f'Features: {X_train.columns}\\n')\n",
        "        file.write(f'{model.get_params}\\n')\n",
        "        file.write('\\n')\n",
        "        file.close()"
      ],
      "execution_count": 0,
      "outputs": []
    },
    {
      "cell_type": "markdown",
      "metadata": {
        "id": "ZLdB-QCv_G3r",
        "colab_type": "text"
      },
      "source": [
        "Using a train/test split, we can subdivide the data into training, validation, and testing sets."
      ]
    },
    {
      "cell_type": "code",
      "metadata": {
        "colab_type": "code",
        "id": "ufAo7_OEEVWs",
        "colab": {}
      },
      "source": [
        "train, test = train_test_split(df, train_size=0.8, random_state=42)\n",
        "train, val = train_test_split(train, train_size=0.8, random_state=42)"
      ],
      "execution_count": 0,
      "outputs": []
    },
    {
      "cell_type": "code",
      "metadata": {
        "colab_type": "code",
        "id": "ynrcu-HQEifS",
        "colab": {}
      },
      "source": [
        "target = 'pitch_type'\n",
        "features = df.columns.drop([target, 'game_date', 'year', 'month'])\n",
        "\n",
        "X_train = train[features]\n",
        "y_train = train[target]\n",
        "X_val = val[features]\n",
        "y_val = val[target]\n",
        "X_test = test[features]\n",
        "y_test = test[target]"
      ],
      "execution_count": 0,
      "outputs": []
    },
    {
      "cell_type": "code",
      "metadata": {
        "colab_type": "code",
        "id": "dpzz7iZn_K6j",
        "outputId": "222f5aac-777b-4f32-f7f5-53285e7ddc76",
        "colab": {
          "base_uri": "https://localhost:8080/",
          "height": 156
        }
      },
      "source": [
        "processor = make_pipeline(\n",
        "    ce.OrdinalEncoder(),\n",
        "    SimpleImputer(strategy='mean')\n",
        ")\n",
        "X_train_processed = processor.fit_transform(X_train)\n",
        "X_val_processed = processor.transform(X_val)\n",
        "X_test_processed = processor.transform(X_test)\n",
        "\n",
        "model = RandomForestClassifier(\n",
        "                               n_estimators=100, \n",
        "                               max_features=16,\n",
        "                               max_depth=9, \n",
        "                               random_state=42, \n",
        "                               n_jobs=-1)\n",
        "model.fit(X_train_processed, y_train)"
      ],
      "execution_count": 281,
      "outputs": [
        {
          "output_type": "execute_result",
          "data": {
            "text/plain": [
              "RandomForestClassifier(bootstrap=True, ccp_alpha=0.0, class_weight=None,\n",
              "                       criterion='gini', max_depth=9, max_features=16,\n",
              "                       max_leaf_nodes=None, max_samples=None,\n",
              "                       min_impurity_decrease=0.0, min_impurity_split=None,\n",
              "                       min_samples_leaf=1, min_samples_split=2,\n",
              "                       min_weight_fraction_leaf=0.0, n_estimators=100,\n",
              "                       n_jobs=-1, oob_score=False, random_state=42, verbose=0,\n",
              "                       warm_start=False)"
            ]
          },
          "metadata": {
            "tags": []
          },
          "execution_count": 281
        }
      ]
    },
    {
      "cell_type": "code",
      "metadata": {
        "colab_type": "code",
        "id": "wItO3dnUyyf2",
        "outputId": "d94ad8d2-38c5-4d9d-c220-18eb86babb6a",
        "colab": {
          "base_uri": "https://localhost:8080/",
          "height": 69
        }
      },
      "source": [
        "baseline = y_train.value_counts(normalize=True)\n",
        "print(f'Baseline Accuracy: {baseline[0]:.5f}')\n",
        "print(f'Train Accuracy: {model.score(X_train_processed, y_train):.5f}')\n",
        "print(f'Validation Accuracy: {model.score(X_val_processed, y_val):.5f}')"
      ],
      "execution_count": 282,
      "outputs": [
        {
          "output_type": "stream",
          "text": [
            "Baseline Accuracy: 0.32381\n",
            "Train Accuracy: 0.66007\n",
            "Validation Accuracy: 0.43204\n"
          ],
          "name": "stdout"
        }
      ]
    },
    {
      "cell_type": "code",
      "metadata": {
        "id": "bXF76CC5_ZJQ",
        "colab_type": "code",
        "colab": {
          "base_uri": "https://localhost:8080/",
          "height": 34
        },
        "outputId": "838fb344-bd08-4a66-f282-1a1168224612"
      },
      "source": [
        "print(f'Test Accuracy: {model.score(X_test_processed, y_test):.5f}')"
      ],
      "execution_count": 283,
      "outputs": [
        {
          "output_type": "stream",
          "text": [
            "Test Accuracy: 0.41246\n"
          ],
          "name": "stdout"
        }
      ]
    },
    {
      "cell_type": "markdown",
      "metadata": {
        "id": "EWFRCKC2_Xcf",
        "colab_type": "text"
      },
      "source": [
        "### Random Forest Predictions Visualization"
      ]
    },
    {
      "cell_type": "markdown",
      "metadata": {
        "id": "jMEIEN1s_ljl",
        "colab_type": "text"
      },
      "source": [
        "Using a bar chart we can see that this model tends to over predict pitches which are most likely to be thrown, and under predict pitches which are less likely to be thrown."
      ]
    },
    {
      "cell_type": "code",
      "metadata": {
        "id": "klEvo3BuhsKv",
        "colab_type": "code",
        "colab": {}
      },
      "source": [
        "predictions_df = pd.DataFrame({'True Values': y_val,\n",
        "                            'Predictions': model.predict(X_val_processed)})\n",
        "predictions_df = predictions_df.apply(lambda x: x.value_counts())"
      ],
      "execution_count": 0,
      "outputs": []
    },
    {
      "cell_type": "code",
      "metadata": {
        "id": "u5zW39kBhsKy",
        "colab_type": "code",
        "colab": {
          "base_uri": "https://localhost:8080/",
          "height": 448
        },
        "outputId": "a08fecb0-201d-4aa7-d910-d05eb272e17a"
      },
      "source": [
        "plt.style.use('fivethirtyeight')\n",
        "\n",
        "fig, ax = plt.subplots(figsize=(10, 6))\n",
        "\n",
        "X = np.arange(len(predictions_df['Predictions'].unique()))\n",
        "bar_width = 0.30\n",
        "\n",
        "ax.bar(X - bar_width/2, predictions_df['True Values'], \n",
        "       color = 'b', width = bar_width, align='center', alpha=0.75, label='True')\n",
        "ax.bar(X + bar_width/2, predictions_df['Predictions'], \n",
        "       color = 'r', width = bar_width, align='center', alpha=0.75, label='Predictions')\n",
        "\n",
        "ax.legend()\n",
        "\n",
        "ax.set_xticks(X)\n",
        "ax.set_xticklabels(['Fastball (4-Seam)', 'Curveball', 'Fastball (2-Seam)', 'Changeup'])\n",
        "\n",
        "ax.set_title('Random Forest Predictions', fontsize=22, fontweight='bold')\n",
        "ax.set_xlabel('Pitch Type', fontweight='bold', labelpad=10)\n",
        "ax.set_ylabel('# of Pitches', fontweight='bold', labelpad=10)\n",
        "ax.xaxis.grid(False)\n",
        "\n",
        "# plt.savefig('Predictions.png', format='png', dpi=300, bbox_inches='tight')\n",
        "plt.show()"
      ],
      "execution_count": 285,
      "outputs": [
        {
          "output_type": "display_data",
          "data": {
            "image/png": "[encoded data removed]",
            "text/plain": [
              "<Figure size 720x432 with 1 Axes>"
            ]
          },
          "metadata": {
            "tags": []
          }
        }
      ]
    },
    {
      "cell_type": "markdown",
      "metadata": {
        "colab_type": "text",
        "id": "vkhxTR622Q8h"
      },
      "source": [
        "## LOGISTIC REGRESSION\n",
        "\n",
        "---\n",
        "\n"
      ]
    },
    {
      "cell_type": "markdown",
      "metadata": {
        "id": "7lGyzdOvAfaN",
        "colab_type": "text"
      },
      "source": [
        "We have to first do a bit of cleaning/mapping to update our dataframe to include only numeric values."
      ]
    },
    {
      "cell_type": "code",
      "metadata": {
        "colab_type": "code",
        "id": "NnbvhIlJyygM",
        "colab": {}
      },
      "source": [
        "log_df = df\n",
        "pitch_mapping = {'ff': 1, 'ft': 1, 'cu': 0, 'ch': 0}\n",
        "log_df['pitch_type'] = log_df['pitch_type'].map(pitch_mapping)\n",
        "\n",
        "advantage_mapping = {'behind': -1, 'neutral': 0, 'ahead': 1}\n",
        "log_df['pitcher_advantage'] = log_df['pitcher_advantage'].map(advantage_mapping)\n",
        "\n",
        "stance_mapping = {'L': 1, 'R': 0}\n",
        "log_df['stand'] = log_df['stand'].map(stance_mapping)\n",
        "\n",
        "bool_cols = ['on_3b', 'on_2b', 'on_1b', 'previous_strike', 'baserunner']\n",
        "log_df[bool_cols] = log_df[bool_cols].astype(int)\n",
        "\n",
        "drop_cols = ['game_date', 'previous_zone', 'previous_pitch']\n",
        "log_df = log_df.drop(drop_cols, axis=1)\n",
        "\n",
        "for column in log_df.columns:\n",
        "  isnull = log_df[column].isnull().any()\n",
        "  if isnull:\n",
        "    log_df[column] = log_df[column].fillna(0)"
      ],
      "execution_count": 0,
      "outputs": []
    },
    {
      "cell_type": "code",
      "metadata": {
        "colab_type": "code",
        "id": "dQqG_DdjyygP",
        "outputId": "cb04a8d7-86d4-4128-960b-7aad1818ec7d",
        "colab": {
          "base_uri": "https://localhost:8080/",
          "height": 34
        }
      },
      "source": [
        "baseline = log_df['pitch_type'].value_counts(normalize=True)[1]\n",
        "print(f'Logistic Regression Baseline: {baseline*100:.2f}%')"
      ],
      "execution_count": 287,
      "outputs": [
        {
          "output_type": "stream",
          "text": [
            "Logistic Regression Baseline: 59.38%\n"
          ],
          "name": "stdout"
        }
      ]
    },
    {
      "cell_type": "code",
      "metadata": {
        "colab_type": "code",
        "id": "mrM8KoVWyygT",
        "colab": {}
      },
      "source": [
        "target = 'pitch_type'\n",
        "features = log_df.columns.drop(target)\n",
        "\n",
        "train, test = train_test_split(log_df, train_size=0.8, random_state=42)\n",
        "train, val = train_test_split(train, train_size=0.8, random_state=42)\n",
        "\n",
        "X_train = train[features]\n",
        "y_train = train[target]\n",
        "X_val = val[features]\n",
        "y_val = val[target]\n",
        "X_test = test[features]\n",
        "y_test = test[target]"
      ],
      "execution_count": 0,
      "outputs": []
    },
    {
      "cell_type": "code",
      "metadata": {
        "colab_type": "code",
        "id": "nf1pgEDxyygW",
        "outputId": "678c0fee-afdb-4513-e78b-a7472ba465b6",
        "colab": {
          "base_uri": "https://localhost:8080/",
          "height": 52
        }
      },
      "source": [
        "lr = LogisticRegression(max_iter=1000)\n",
        "lr.fit(X_train, y_train)\n",
        "val_accuracy = lr.score(X_val, y_val)\n",
        "test_accuracy = lr.score(X_test, y_test)\n",
        "print(f'Baseline Accuracy: {y_train.value_counts(normalize=True)[1]*100:.2f}%')\n",
        "print(f'Validation Accuracy: {val_accuracy*100:.2f}%')"
      ],
      "execution_count": 289,
      "outputs": [
        {
          "output_type": "stream",
          "text": [
            "Baseline Accuracy: 59.67%\n",
            "Validation Accuracy: 60.50%\n"
          ],
          "name": "stdout"
        }
      ]
    },
    {
      "cell_type": "code",
      "metadata": {
        "id": "F0pmD1H-AIbc",
        "colab_type": "code",
        "colab": {
          "base_uri": "https://localhost:8080/",
          "height": 34
        },
        "outputId": "13a6b388-e3cb-4e49-b3f7-56fe8ed72b42"
      },
      "source": [
        " print(f'Test Accuracy: {test_accuracy*100:.2f}%')"
      ],
      "execution_count": 290,
      "outputs": [
        {
          "output_type": "stream",
          "text": [
            "Test Accuracy: 59.57%\n"
          ],
          "name": "stdout"
        }
      ]
    },
    {
      "cell_type": "markdown",
      "metadata": {
        "id": "wvU3AyRVAJ9i",
        "colab_type": "text"
      },
      "source": [
        "Here, this simple scatter plot highlights the noise in this data"
      ]
    },
    {
      "cell_type": "code",
      "metadata": {
        "colab_type": "code",
        "id": "RLYP8oEqClUD",
        "outputId": "5a46b728-5b50-4d61-ca80-c651ec09327a",
        "colab": {
          "base_uri": "https://localhost:8080/",
          "height": 282
        }
      },
      "source": [
        "probabilities = lr.predict_proba(X_val)\n",
        "\n",
        "plt.scatter(range(len(probabilities)), probabilities[:,0])\n",
        "plt.show()"
      ],
      "execution_count": 291,
      "outputs": [
        {
          "output_type": "display_data",
          "data": {
            "image/png": "[encoded data removed]",
            "text/plain": [
              "<Figure size 432x288 with 1 Axes>"
            ]
          },
          "metadata": {
            "tags": []
          }
        }
      ]
    },
    {
      "cell_type": "markdown",
      "metadata": {
        "id": "xjNUQNCYAXpr",
        "colab_type": "text"
      },
      "source": [
        "**Conclusion**\n",
        "\n",
        "While there is likely room for improvement in model selection, engineering additional useful features, and hyperparameter tuning, it is good to be reminded of the subject of this analysis: Jose Berrios. Berrios is the Minnesota Twins top starting pitcher, and is known for his balanced style, using all four pitches to keep hitters off balance. One of his strengths lies in this unpredictability. It makes sense then, that this seemingly random approach would prove difficult to predict."
      ]
    }
  ]
}