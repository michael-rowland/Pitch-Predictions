{
  "nbformat": 4,
  "nbformat_minor": 0,
  "metadata": {
    "kernelspec": {
      "display_name": "Python 3",
      "language": "python",
      "name": "python3"
    },
    "language_info": {
      "codemirror_mode": {
        "name": "ipython",
        "version": 3
      },
      "file_extension": ".py",
      "mimetype": "text/x-python",
      "name": "python",
      "nbconvert_exporter": "python",
      "pygments_lexer": "ipython3",
      "version": "3.7.6"
    },
    "colab": {
      "name": "LS_DS_234_assignment.ipynb",
      "provenance": []
    }
  },
  "cells": [
    {
      "cell_type": "code",
      "metadata": {
        "colab_type": "code",
        "id": "YtbenfyO7Bct",
        "colab": {}
      },
      "source": [
        "%%capture\n",
        "# If you're on Colab:\n",
        "if 'google.colab' in sys.modules:\n",
        "    !pip install category_encoders==2.*\n",
        "    !pip install pybaseball\n",
        "\n",
        "# If you're working locally:\n",
        "else:\n",
        "    DATA_PATH = '../data/'"
      ],
      "execution_count": 0,
      "outputs": []
    },
    {
      "cell_type": "markdown",
      "metadata": {
        "id": "5LDyftn--AAg",
        "colab_type": "text"
      },
      "source": [
        "## DATA PROCESSING\n",
        "\n",
        "---\n"
      ]
    },
    {
      "cell_type": "code",
      "metadata": {
        "id": "Zx9VsN0oTWm4",
        "colab_type": "code",
        "colab": {}
      },
      "source": [
        "import sys\n",
        "import pandas as pd\n",
        "import category_encoders as ce\n",
        "from pybaseball import statcast_pitcher\n",
        "\n",
        "pd.set_option('display.max_columns', None)\n",
        "pd.set_option('display.max_rows', None)"
      ],
      "execution_count": 0,
      "outputs": []
    },
    {
      "cell_type": "code",
      "metadata": {
        "id": "JbgCzp3fZGIY",
        "colab_type": "code",
        "colab": {}
      },
      "source": [
        "def pitch_encoding(df):\n",
        "  '''\n",
        "  uses OneHotEncoder to encode pitch_name to seperate columns\n",
        "  '''\n",
        "  df = df.copy()\n",
        "\n",
        "  encoder = ce.OneHotEncoder(use_cat_names=True)\n",
        "  encoded = encoder.fit_transform(df['previous_pitch'])\n",
        "  # careful on the 'on' parameter, may cause issues later\n",
        "  df = pd.merge(df, encoded, how='outer', on=df.index)\n",
        "  df = df.drop(['key_0', 'previous_pitch_nan'], axis=1)\n",
        "  \n",
        "  # MAY WANT TO CHANGE THIS NAN SOMETIME\n",
        "  # df.loc[0, 'previous_pitch']\n",
        "  \n",
        "  return df"
      ],
      "execution_count": 0,
      "outputs": []
    },
    {
      "cell_type": "code",
      "metadata": {
        "id": "6RSMf17lYil-",
        "colab_type": "code",
        "colab": {}
      },
      "source": [
        "def pitch_tendency(df, window):\n",
        "  '''\n",
        "  THIS IS INCOMPLETE, BUT MVP, FIRST ROWS OF WINDOW WHILE ROW < WINDOW\n",
        "  AVERAGES INCLUDE FIRST ROW, WHICH ARE ALL ZEROS, SO SUM OF ALL TENDENCIES\n",
        "  DOES NOT EQUAL 1.0. THIS IS ONLY AN ISSUE FOR FIRST 5, AND COULD BE UPDATED \n",
        "  BY REMOVING MIN_PERIODS=1 PARAMETER\n",
        "  '''\n",
        "  df = df.copy()\n",
        "\n",
        "  pitches = df[[col for col in df if col.startswith('previous_pitch_')]]\n",
        "  \n",
        "  for i in pitches.columns:\n",
        "    df[f'{i[-2:]}_tendency_{window}'] = df[i].rolling(\n",
        "        window, min_periods=1).mean()\n",
        "    \n",
        "  return df"
      ],
      "execution_count": 0,
      "outputs": []
    },
    {
      "cell_type": "code",
      "metadata": {
        "id": "sf7A465TYgIS",
        "colab_type": "code",
        "colab": {}
      },
      "source": [
        "def pitch_counter(df):\n",
        "  '''\n",
        "  adds columns of cumulative count for each specific pitch type\n",
        "  '''\n",
        "  df = df.copy()\n",
        "\n",
        "  pitches = df[[col for col in df if col.startswith('previous_pitch_')]]\n",
        "\n",
        "  for i in pitches.columns:\n",
        "    counter = 0\n",
        "    target = f'{i[-2:]}_count'\n",
        "    df[target] = 0\n",
        "    for j in range(len(df)):\n",
        "      if df.loc[j, i] == 1:\n",
        "        counter += 1\n",
        "      df.loc[j, target] = counter\n",
        "  \n",
        "  return df"
      ],
      "execution_count": 0,
      "outputs": []
    },
    {
      "cell_type": "code",
      "metadata": {
        "id": "8-kLatuYzfWJ",
        "colab_type": "code",
        "colab": {}
      },
      "source": [
        "def total_pitches(df):\n",
        "  '''\n",
        "  calculates total pitches (prior to current/target pitch) since entering\n",
        "  the game\n",
        "  '''\n",
        "  df = df.copy()\n",
        "\n",
        "  df['pitch_total_prior'] = df.groupby('game_date').cumcount(ascending=True)\n",
        "\n",
        "  return df"
      ],
      "execution_count": 0,
      "outputs": []
    },
    {
      "cell_type": "code",
      "metadata": {
        "id": "9xVEscXA1Jqo",
        "colab_type": "code",
        "colab": {}
      },
      "source": [
        "def score_margin(df):\n",
        "  '''\n",
        "  calculates the score margin for the pitcher's team\n",
        "  '''\n",
        "  df = df.copy()\n",
        "\n",
        "  df['score_margin'] = df['fld_score'] - df['bat_score']\n",
        "  df = df.drop(['fld_score', 'bat_score'], axis=1)\n",
        "\n",
        "  return df"
      ],
      "execution_count": 0,
      "outputs": []
    },
    {
      "cell_type": "code",
      "metadata": {
        "id": "iLdxLZbz28oK",
        "colab_type": "code",
        "colab": {}
      },
      "source": [
        "def pitcher_advantage(df):\n",
        "  '''\n",
        "  generates categorical 'pitcher_advantage' variable based on the count\n",
        "  '''\n",
        "  df = df.copy()\n",
        "\n",
        "  advantages = {'0-0':'neutral', '0-1':'ahead', '0-2':'ahead', '1-0':'neutral', \n",
        "                '1-1':'neutral', '1-2':'ahead', '2-0':'behind', '2-1':'neutral',\n",
        "                '2-2':'ahead', '3-0':'behind', '3-1':'behind', '3-2':'neutral'}\n",
        "\n",
        "  df['count'] = df['balls'].astype(str) + '-' + df['strikes'].astype(str)\n",
        "  df['pitcher_advantage'] = df['count'].map(advantages)\n",
        "  df = df.drop('count', axis=1)\n",
        "\n",
        "  return df"
      ],
      "execution_count": 0,
      "outputs": []
    },
    {
      "cell_type": "code",
      "metadata": {
        "id": "f5pWpSFn9vqj",
        "colab_type": "code",
        "colab": {}
      },
      "source": [
        "def baserunners_mapping(df):\n",
        "  '''\n",
        "  maps baserunner to boolean values\n",
        "  '''\n",
        "  df = df.copy()\n",
        "\n",
        "  df['on_1b'] = df['on_1b'].notnull()\n",
        "  df['on_2b'] = df['on_2b'].notnull()\n",
        "  df['on_3b'] = df['on_3b'].notnull()\n",
        "\n",
        "  return df"
      ],
      "execution_count": 0,
      "outputs": []
    },
    {
      "cell_type": "code",
      "metadata": {
        "id": "vv2mIdKT_NMS",
        "colab_type": "code",
        "colab": {}
      },
      "source": [
        "def at_bat_counter(df):\n",
        "  '''\n",
        "  generates column for number of batters faced\n",
        "  '''\n",
        "  df = df.copy()\n",
        "\n",
        "  df['at_bat_count'] = df.groupby('at_bat_number').ngroup(ascending=True)+1\n",
        "  df = df.drop('at_bat_number', axis=1)\n",
        "\n",
        "  return df"
      ],
      "execution_count": 0,
      "outputs": []
    },
    {
      "cell_type": "code",
      "metadata": {
        "id": "hBJ_cQukIIhQ",
        "colab_type": "code",
        "colab": {}
      },
      "source": [
        "def pitch_cleaning(df):\n",
        "  '''\n",
        "  cleans target ('pitch_type'), dropping NaN's (bad data) and pitch out's\n",
        "  '''\n",
        "  df = df.copy()\n",
        "\n",
        "  df = df.dropna(subset=['pitch_type'])\n",
        "  df['pitch_type'] = df['pitch_type'].str.lower()\n",
        "  remove_pitches = ['po']\n",
        "  df = df[~df['pitch_type'].isin(remove_pitches)]\n",
        "  df = df.drop('pitch_name', axis=1)\n",
        "\n",
        "  return df"
      ],
      "execution_count": 0,
      "outputs": []
    },
    {
      "cell_type": "code",
      "metadata": {
        "id": "V6BqReG28l0r",
        "colab_type": "code",
        "colab": {}
      },
      "source": [
        "def pitch_map(df):\n",
        "  '''\n",
        "  generates dictionary mapping 'pitch_type' to 'pitch_name'\n",
        "  '''\n",
        "  df = df.copy()\n",
        "\n",
        "  df = df.dropna(subset=['pitch_type', 'pitch_name'])\n",
        "  pitch_types = df['pitch_name'].unique().tolist()\n",
        "  pitch_types_abv = [i.lower() for i in df['pitch_type'].unique().tolist()]\n",
        "  \n",
        "  return dict(zip(pitch_types_abv, pitch_types))"
      ],
      "execution_count": 0,
      "outputs": []
    },
    {
      "cell_type": "code",
      "metadata": {
        "id": "mSHJmd2lobsX",
        "colab_type": "code",
        "colab": {}
      },
      "source": [
        "def wrangle_game(df):\n",
        "  '''\n",
        "  this function does data wrangling and feature engineering on a per game basis\n",
        "  '''\n",
        "  df = df.copy()\n",
        "\n",
        "  # REORDERS FIRST PITCH TO LAST\n",
        "  df = df.reindex(index=df.index[::-1])\n",
        "  df = df.reset_index(drop=True)\n",
        "\n",
        "  df = pitch_cleaning(df)\n",
        "  df['previous_pitch'] = df['pitch_type'].shift(1)\n",
        "  df = pitch_encoding(df)\n",
        "  df = pitch_tendency(df, 5)\n",
        "  df = pitch_counter(df)\n",
        "  df = total_pitches(df)\n",
        "  df = score_margin(df)\n",
        "  df = pitcher_advantage(df)\n",
        "  df = baserunners_mapping(df)\n",
        "  df = at_bat_counter(df)\n",
        "  \n",
        "  return df"
      ],
      "execution_count": 0,
      "outputs": []
    },
    {
      "cell_type": "code",
      "metadata": {
        "id": "jAHNS-TncwYb",
        "colab_type": "code",
        "colab": {}
      },
      "source": [
        "%%capture\n",
        "raw_data = statcast_pitcher('2015-01-01', '2020-01-01', 621244)"
      ],
      "execution_count": 0,
      "outputs": []
    },
    {
      "cell_type": "code",
      "metadata": {
        "id": "rmirGSUhd3II",
        "colab_type": "code",
        "colab": {}
      },
      "source": [
        "target = 'pitch_type'\n",
        "features = ['pitch_name', 'pitch_type', 'game_date', 'stand', 'balls', \n",
        "            'strikes', 'on_3b', 'on_2b', 'on_1b', 'outs_when_up', 'inning', \n",
        "            'at_bat_number', 'bat_score', 'fld_score']"
      ],
      "execution_count": 0,
      "outputs": []
    },
    {
      "cell_type": "code",
      "metadata": {
        "id": "VEAhamyTDgPE",
        "colab_type": "code",
        "colab": {}
      },
      "source": [
        "df = pd.DataFrame()\n",
        "\n",
        "games = raw_data['game_date'].unique().tolist()\n",
        "# this game is all NaN's, need to remove or write exception catcher\n",
        "games.remove('2018-04-18')\n",
        "for game in games:\n",
        "  game_data = wrangle_game(raw_data[raw_data['game_date'] == game][features])\n",
        "  df = df.append(game_data, ignore_index=True, sort=False)"
      ],
      "execution_count": 0,
      "outputs": []
    },
    {
      "cell_type": "markdown",
      "metadata": {
        "id": "gD6IWOLr-hp7",
        "colab_type": "text"
      },
      "source": [
        "## MODEL\n",
        "\n",
        "---\n",
        "\n"
      ]
    },
    {
      "cell_type": "code",
      "metadata": {
        "id": "02MVPOEO_XC5",
        "colab_type": "code",
        "colab": {}
      },
      "source": [
        "from sklearn.ensemble import RandomForestClassifier\n",
        "from sklearn.impute import SimpleImputer\n",
        "from sklearn.metrics import accuracy_score\n",
        "from sklearn.model_selection import train_test_split\n",
        "from sklearn.pipeline import make_pipeline"
      ],
      "execution_count": 0,
      "outputs": []
    },
    {
      "cell_type": "code",
      "metadata": {
        "id": "46WM9sai-mOJ",
        "colab_type": "code",
        "colab": {}
      },
      "source": [
        "backup = df"
      ],
      "execution_count": 0,
      "outputs": []
    },
    {
      "cell_type": "code",
      "metadata": {
        "id": "ufAo7_OEEVWs",
        "colab_type": "code",
        "outputId": "6449a530-cc36-40d9-f0e1-8961a2651ddd",
        "colab": {
          "base_uri": "https://localhost:8080/",
          "height": 34
        }
      },
      "source": [
        "train, test = train_test_split(df, train_size=0.8, random_state=42)\n",
        "train, val = train_test_split(train, train_size=0.8, random_state=42)\n",
        "train.shape, val.shape, test.shape"
      ],
      "execution_count": 0,
      "outputs": [
        {
          "output_type": "execute_result",
          "data": {
            "text/plain": [
              "((6266, 27), (1567, 27), (1959, 27))"
            ]
          },
          "metadata": {
            "tags": []
          },
          "execution_count": 464
        }
      ]
    },
    {
      "cell_type": "code",
      "metadata": {
        "id": "ynrcu-HQEifS",
        "colab_type": "code",
        "colab": {}
      },
      "source": [
        "target = 'pitch_type'\n",
        "features = df.columns.drop([target, 'game_date'])\n",
        "\n",
        "X_train = train[features]\n",
        "y_train = train[target]\n",
        "X_val = val[features]\n",
        "y_val = val[target]\n",
        "X_test = test[features]\n",
        "y_test = test[target]"
      ],
      "execution_count": 0,
      "outputs": []
    },
    {
      "cell_type": "code",
      "metadata": {
        "id": "dpzz7iZn_K6j",
        "colab_type": "code",
        "outputId": "71983b9b-faec-4e55-b143-1d2fcf14973f",
        "colab": {
          "base_uri": "https://localhost:8080/",
          "height": 52
        }
      },
      "source": [
        "processor = make_pipeline(\n",
        "    ce.OrdinalEncoder(),\n",
        "    SimpleImputer(strategy='median')\n",
        ")\n",
        "X_train_processed = processor.fit_transform(X_train)\n",
        "X_val_processed = processor.transform(X_val)\n",
        "\n",
        "model = RandomForestClassifier(n_estimators=100, random_state=42, n_jobs=-1)\n",
        "model.fit(X_train_processed, y_train)\n",
        "\n",
        "print(f'Train accuracy: {model.score(X_train_processed, y_train):.5f}')\n",
        "print(f'Validation accuracy: {model.score(X_val_processed, y_val):.5f}')"
      ],
      "execution_count": 0,
      "outputs": [
        {
          "output_type": "stream",
          "text": [
            "Train accuracy: 0.99346\n",
            "Validation accuracy: 0.38545\n"
          ],
          "name": "stdout"
        }
      ]
    }
  ]
}