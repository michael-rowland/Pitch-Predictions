{
  "nbformat": 4,
  "nbformat_minor": 0,
  "metadata": {
    "colab": {
      "name": "Pitch-Predictions.ipynb",
      "provenance": [],
      "collapsed_sections": [],
      "include_colab_link": true
    },
    "kernelspec": {
      "display_name": "Python 3",
      "language": "python",
      "name": "python3"
    },
    "language_info": {
      "codemirror_mode": {
        "name": "ipython",
        "version": 3
      },
      "file_extension": ".py",
      "mimetype": "text/x-python",
      "name": "python",
      "nbconvert_exporter": "python",
      "pygments_lexer": "ipython3",
      "version": "3.7.4"
    }
  },
  "cells": [
    {
      "cell_type": "markdown",
      "metadata": {
        "id": "view-in-github",
        "colab_type": "text"
      },
      "source": [
        "<a href=\"https://colab.research.google.com/github/michael-rowland/Pitch-Predictions/blob/master/Pitch-Predictions.ipynb\" target=\"_parent\"><img src=\"https://colab.research.google.com/assets/colab-badge.svg\" alt=\"Open In Colab\"/></a>"
      ]
    },
    {
      "cell_type": "markdown",
      "metadata": {
        "colab_type": "text",
        "id": "nAo_t8mL7782"
      },
      "source": [
        "## NOTES\n",
        "\n",
        "---\n",
        "\n",
        "Features:\n",
        "- Shifting?\n",
        "- Home/Away\n",
        "\n",
        "Per pitcher models\n",
        "\n",
        "Exponential Smoothing\n",
        "\n",
        "Permutation Importances"
      ]
    },
    {
      "cell_type": "markdown",
      "metadata": {
        "id": "OJcWLt0IjSpi",
        "colab_type": "text"
      },
      "source": [
        "## SETUP\n",
        "\n",
        "---\n",
        "\n"
      ]
    },
    {
      "cell_type": "code",
      "metadata": {
        "colab_type": "code",
        "id": "d536ZH3bNNoR",
        "colab": {}
      },
      "source": [
        "%%capture\n",
        "import sys\n",
        "\n",
        "# If you're on Colab:\n",
        "if 'google.colab' in sys.modules:\n",
        "    !pip install category_encoders==2.*\n",
        "    !pip install pybaseball\n",
        "\n",
        "# If you're working locally:\n",
        "else:\n",
        "    DATA_PATH = '../data/'"
      ],
      "execution_count": 0,
      "outputs": []
    },
    {
      "cell_type": "code",
      "metadata": {
        "colab_type": "code",
        "id": "Zx9VsN0oTWm4",
        "colab": {}
      },
      "source": [
        "# import os\n",
        "import numpy as np\n",
        "import pandas as pd\n",
        "import category_encoders as ce\n",
        "from pybaseball import statcast_pitcher\n",
        "\n",
        "pd.set_option('display.max_columns', None)\n",
        "pd.set_option('display.max_rows', None)"
      ],
      "execution_count": 0,
      "outputs": []
    },
    {
      "cell_type": "markdown",
      "metadata": {
        "id": "ow0dZ9tujBfY",
        "colab_type": "text"
      },
      "source": [
        "## DATA GATHERING\n",
        "\n",
        "---\n",
        "\n"
      ]
    },
    {
      "cell_type": "code",
      "metadata": {
        "colab_type": "code",
        "id": "jAHNS-TncwYb",
        "colab": {}
      },
      "source": [
        "%%capture\n",
        "raw_data = statcast_pitcher('2015-01-01', '2020-01-01', 621244)"
      ],
      "execution_count": 0,
      "outputs": []
    },
    {
      "cell_type": "markdown",
      "metadata": {
        "id": "kPOjdQMtiCzb",
        "colab_type": "text"
      },
      "source": [
        "## DATA CLEANING\n",
        "\n",
        "---\n",
        "\n"
      ]
    },
    {
      "cell_type": "code",
      "metadata": {
        "id": "Ub2a5qyllXw4",
        "colab_type": "code",
        "colab": {}
      },
      "source": [
        "def reorder(df):\n",
        "  '''\n",
        "  reorders pitches in ascending order\n",
        "  '''\n",
        "  df = df.copy()\n",
        "\n",
        "  df = df.reindex(index=df.index[::-1])\n",
        "  df = df.reset_index(drop=True)\n",
        "\n",
        "  return df"
      ],
      "execution_count": 0,
      "outputs": []
    },
    {
      "cell_type": "code",
      "metadata": {
        "colab_type": "code",
        "id": "hBJ_cQukIIhQ",
        "colab": {}
      },
      "source": [
        "def pitch_cleaning(df):\n",
        "  '''\n",
        "  cleans target ('pitch_type'), dropping NaN's (bad data) and pitch out's\n",
        "  '''\n",
        "  df = df.copy()\n",
        "\n",
        "  df = df.dropna(subset=['pitch_type'])\n",
        "  \n",
        "  df['pitch_type'] = df['pitch_type'].str.lower()\n",
        "  remove_pitches = ['po']\n",
        "  df = df[~df['pitch_type'].isin(remove_pitches)]\n",
        "  df = df.drop('pitch_name', axis=1)\n",
        "\n",
        "  return df"
      ],
      "execution_count": 0,
      "outputs": []
    },
    {
      "cell_type": "code",
      "metadata": {
        "id": "vAknmNqXkwl5",
        "colab_type": "code",
        "colab": {}
      },
      "source": [
        "def historical_cleaning(df):\n",
        "  '''\n",
        "  shifts relevant historical data to prevent data leakage\n",
        "  '''\n",
        "  df = df.copy()\n",
        "\n",
        "  df['previous_pitch'] = df['pitch_type'].shift(1) # target, should probably be dropped initially\n",
        "  df['previous_strike'] = df['type'].shift(1) == 'S'\n",
        "  df['previous_zone'] = df['zone'].shift(1) # this may need to be encoded somehow\n",
        "  df = df.drop(['type', 'zone'], axis=1)\n",
        "\n",
        "  return df"
      ],
      "execution_count": 0,
      "outputs": []
    },
    {
      "cell_type": "markdown",
      "metadata": {
        "colab_type": "text",
        "id": "5LDyftn--AAg"
      },
      "source": [
        "## DATA PROCESSING\n",
        "\n",
        "---\n"
      ]
    },
    {
      "cell_type": "code",
      "metadata": {
        "colab_type": "code",
        "id": "8-kLatuYzfWJ",
        "colab": {}
      },
      "source": [
        "def total_pitches(df):\n",
        "  '''\n",
        "  creates column of total pitches prior to current/target pitch\n",
        "  '''\n",
        "  df = df.copy()\n",
        "\n",
        "  df['pitch_total'] = df.groupby('game_date').cumcount(ascending=True)\n",
        "\n",
        "  return df"
      ],
      "execution_count": 0,
      "outputs": []
    },
    {
      "cell_type": "code",
      "metadata": {
        "colab_type": "code",
        "id": "9xVEscXA1Jqo",
        "colab": {}
      },
      "source": [
        "def score_margin(df):\n",
        "  '''\n",
        "  creates column of score margin for the pitcher's team\n",
        "  '''\n",
        "  df = df.copy()\n",
        "\n",
        "  df['score_margin'] = df['fld_score'] - df['bat_score']\n",
        "  df = df.drop(['fld_score', 'bat_score'], axis=1)\n",
        "\n",
        "  return df"
      ],
      "execution_count": 0,
      "outputs": []
    },
    {
      "cell_type": "code",
      "metadata": {
        "colab_type": "code",
        "id": "iLdxLZbz28oK",
        "colab": {}
      },
      "source": [
        "def pitcher_advantage(df):\n",
        "  '''\n",
        "  creates column of pitcher advantage based on the ball/strike count\n",
        "  '''\n",
        "  df = df.copy()\n",
        "\n",
        "  advantages = {'0-0':'neutral', '0-1':'ahead', '0-2':'ahead', '1-0':'neutral', \n",
        "                '1-1':'neutral', '1-2':'ahead', '2-0':'behind', '2-1':'neutral',\n",
        "                '2-2':'ahead', '3-0':'behind', '3-1':'behind', '3-2':'neutral'}\n",
        "\n",
        "  df['count'] = df['balls'].astype(str) + '-' + df['strikes'].astype(str)\n",
        "  df['pitcher_advantage'] = df['count'].map(advantages)\n",
        "  df = df.drop('count', axis=1)\n",
        "\n",
        "  return df"
      ],
      "execution_count": 0,
      "outputs": []
    },
    {
      "cell_type": "code",
      "metadata": {
        "colab_type": "code",
        "id": "f5pWpSFn9vqj",
        "colab": {}
      },
      "source": [
        "def baserunners_mapping(df):\n",
        "  '''\n",
        "  maps baserunner to boolean values and creates column if there is a baserunner \n",
        "  on any base\n",
        "  '''\n",
        "  df = df.copy()\n",
        "\n",
        "  df['on_1b'] = df['on_1b'].notnull()\n",
        "  df['on_2b'] = df['on_2b'].notnull()\n",
        "  df['on_3b'] = df['on_3b'].notnull()\n",
        "  \n",
        "  df['baserunner'] = df['on_1b'] | df['on_2b'] | df['on_3b']\n",
        "\n",
        "  return df"
      ],
      "execution_count": 0,
      "outputs": []
    },
    {
      "cell_type": "code",
      "metadata": {
        "colab_type": "code",
        "id": "vv2mIdKT_NMS",
        "colab": {}
      },
      "source": [
        "def at_bat_counter(df):\n",
        "  '''\n",
        "  creates column of number of batters faced\n",
        "  '''\n",
        "  df = df.copy()\n",
        "\n",
        "  df['at_bat_count'] = df.groupby('at_bat_number').ngroup(ascending=True)+1\n",
        "  df = df.drop('at_bat_number', axis=1)\n",
        "\n",
        "  return df"
      ],
      "execution_count": 0,
      "outputs": []
    },
    {
      "cell_type": "code",
      "metadata": {
        "colab_type": "code",
        "id": "JbgCzp3fZGIY",
        "colab": {}
      },
      "source": [
        "def pitch_encoding(df):\n",
        "  '''\n",
        "  creates columns of previous pitch for each pitch type using OneHotEncoder\n",
        "  '''\n",
        "  df = df.copy()\n",
        "\n",
        "  encoder = ce.OneHotEncoder(use_cat_names=True)\n",
        "  encoded = encoder.fit_transform(df['previous_pitch'])\n",
        "  df = pd.merge(df, encoded, how='outer', on=df.index)\n",
        "  df = df.drop(['key_0', 'previous_pitch_nan'], axis=1)\n",
        "  \n",
        "  return df"
      ],
      "execution_count": 0,
      "outputs": []
    },
    {
      "cell_type": "code",
      "metadata": {
        "colab_type": "code",
        "id": "sf7A465TYgIS",
        "colab": {}
      },
      "source": [
        "def pitch_counter(df):\n",
        "  '''\n",
        "  creates columuns of cumulative count of each specific pitch type\n",
        "  '''\n",
        "  df = df.copy()\n",
        "\n",
        "  pitches = [col for col in df if col.startswith('previous_pitch_')]\n",
        "  \n",
        "  for pitch in pitches:\n",
        "    df[f'count_{pitch[-2:]}'] = (df[pitch] == 1).cumsum()\n",
        "\n",
        "  return df"
      ],
      "execution_count": 0,
      "outputs": []
    },
    {
      "cell_type": "code",
      "metadata": {
        "colab_type": "code",
        "id": "6RSMf17lYil-",
        "colab": {}
      },
      "source": [
        "def pitch_tendency(df, window):\n",
        "  '''\n",
        "  creates columns of pitch tendency (mean) over last n = window pitches for \n",
        "  each pitch type\n",
        "  * This is incomplete (minimum viable product) as averages include first row. \n",
        "  As a result, the sum of all tendencies does not equal 1 while row < window.\n",
        "  '''\n",
        "  df = df.copy()\n",
        "\n",
        "  pitches = [col for col in df if col.startswith('previous_pitch_')]\n",
        "  \n",
        "  for pitch in pitches:\n",
        "    df[f'{pitch[-2:]}_tendency_{window}'] = df[pitch].rolling(\n",
        "        window, min_periods=1).mean()\n",
        "    \n",
        "  return df"
      ],
      "execution_count": 0,
      "outputs": []
    },
    {
      "cell_type": "code",
      "metadata": {
        "id": "xgkhYdbUgB_l",
        "colab_type": "code",
        "colab": {}
      },
      "source": [
        "def strike_encoding(df):\n",
        "  '''\n",
        "  creates columns of strike pitch for each pitch type using OneHotEncoder\n",
        "  '''\n",
        "  df = df.copy()\n",
        "  \n",
        "  s = df['previous_strike'] == True\n",
        "  df['strike_pitch'] = s.mask(s, df['previous_pitch'])\n",
        "  \n",
        "  encoder = ce.OneHotEncoder(use_cat_names=True)\n",
        "  encoded = encoder.fit_transform(df['strike_pitch'])\n",
        "  df = pd.merge(df, encoded, how='outer', on=df.index)\n",
        "  df = df.drop(['key_0', 'strike_pitch_False', 'strike_pitch'], axis=1)\n",
        "  \n",
        "  return df"
      ],
      "execution_count": 0,
      "outputs": []
    },
    {
      "cell_type": "code",
      "metadata": {
        "id": "IX4Ox2h6gB_q",
        "colab_type": "code",
        "colab": {}
      },
      "source": [
        "def strike_percentage(df, percentage=True):\n",
        "  '''\n",
        "  creates columns of strike percentage (or raw count) for each pitch type\n",
        "  * This could be further engineered to calculate percentage of total number of \n",
        "  strikes thrown rather than number of total pitches\n",
        "  '''\n",
        "  df = df.copy()\n",
        "\n",
        "  pitches = [col for col in df if col.startswith('strike_pitch_')]\n",
        "\n",
        "  for i in pitches:\n",
        "    if percentage:\n",
        "      df[f'{i[-2:]}_cumulative_strikes'] = (df[f'strike_pitch_{i[-2:]}'] == 1).cumsum() / df['pitch_total']\n",
        "    else:\n",
        "      df[f'{i[-2:]}_cumulative_strikes'] = (df[f'strike_pitch_{i[-2:]}'] == 1).cumsum()\n",
        "      \n",
        "  return df"
      ],
      "execution_count": 0,
      "outputs": []
    },
    {
      "cell_type": "code",
      "metadata": {
        "id": "GCdfgTD4gB_v",
        "colab_type": "code",
        "colab": {}
      },
      "source": [
        "def strike_counter(df, window):\n",
        "  '''\n",
        "  creates columns of number of previous n (window) strikes thrown for each pitch \n",
        "  type\n",
        "  '''\n",
        "  df = df.copy()\n",
        "  \n",
        "  pitches = [col for col in df if col.startswith('strike_pitch_')]\n",
        "  \n",
        "  for i in pitches:\n",
        "    target = f'{i[-2:]}_strike_tendency_{window}'\n",
        "    # df[target] = df[df['strike_pitch'] != False][i].rolling(window, \n",
        "    #                                                         min_periods=1).sum()\n",
        "    df[target] = df[df[i] != 0][i].rolling(window, min_periods=1).sum()\n",
        "    df[target] = df[target].fillna(method='ffill')\n",
        "    df[target] = df[target].fillna(0)\n",
        "\n",
        "  return df"
      ],
      "execution_count": 0,
      "outputs": []
    },
    {
      "cell_type": "code",
      "metadata": {
        "colab_type": "code",
        "id": "mSHJmd2lobsX",
        "colab": {}
      },
      "source": [
        "def wrangle_game(df):\n",
        "  '''\n",
        "  this function does data cleaning and feature engineering on a per game basis\n",
        "  '''\n",
        "  df = df.copy()\n",
        "\n",
        "  # CLEANING FUNCTIONS\n",
        "  df = reorder(df)\n",
        "  df = pitch_cleaning(df)\n",
        "  if df.empty:\n",
        "    return\n",
        "  df = historical_cleaning(df)\n",
        "\n",
        "  # FEATURE ENGINEERING FUNCTIONS\n",
        "  df = total_pitches(df)\n",
        "  df = score_margin(df)\n",
        "  df = pitcher_advantage(df)\n",
        "  df = baserunners_mapping(df)\n",
        "  df = at_bat_counter(df)\n",
        "  df = pitch_encoding(df)\n",
        "  df = pitch_counter(df)\n",
        "  \n",
        "  windows = [5, 10, 20]\n",
        "  for window in windows:\n",
        "    df = pitch_tendency(df, window) \n",
        "  df = strike_encoding(df)\n",
        "  df = strike_percentage(df, percentage=True)\n",
        "  for window in windows:\n",
        "    df = strike_counter(df, window)\n",
        "  \n",
        "  return df"
      ],
      "execution_count": 0,
      "outputs": []
    },
    {
      "cell_type": "markdown",
      "metadata": {
        "id": "kaerO9DgorAO",
        "colab_type": "text"
      },
      "source": [
        "\n",
        "\n",
        "---\n",
        "\n"
      ]
    },
    {
      "cell_type": "code",
      "metadata": {
        "id": "bBzj0oYbgB_f",
        "colab_type": "code",
        "colab": {}
      },
      "source": [
        "# sample = 'https://raw.githubusercontent.com/michael-rowland/Pitch-Predictions/master/sample.csv'\n",
        "# df = pd.read_csv(sample)\n",
        "# df = df[df['game_date'] == '2018-09-28']\n",
        "\n",
        "target = 'pitch_type'\n",
        "features = ['pitch_name', 'pitch_type', 'game_date', 'stand', 'balls', \n",
        "            'strikes', 'on_3b', 'on_2b', 'on_1b', 'outs_when_up', 'inning', \n",
        "            'at_bat_number', 'bat_score', 'fld_score', 'type', 'zone']\n",
        "# df = df[features]"
      ],
      "execution_count": 0,
      "outputs": []
    },
    {
      "cell_type": "code",
      "metadata": {
        "colab_type": "code",
        "id": "VEAhamyTDgPE",
        "colab": {}
      },
      "source": [
        "df = pd.DataFrame()\n",
        "# nulls = '2018-04-18'\n",
        "\n",
        "games = raw_data['game_date'].unique().tolist()\n",
        "for game in games:\n",
        "  game_data = wrangle_game(raw_data[raw_data['game_date'] == game][features])\n",
        "  df = df.append(game_data, ignore_index=True, sort=False)"
      ],
      "execution_count": 0,
      "outputs": []
    },
    {
      "cell_type": "markdown",
      "metadata": {
        "colab_type": "text",
        "id": "gD6IWOLr-hp7"
      },
      "source": [
        "## MODEL\n",
        "\n",
        "---\n",
        "\n"
      ]
    },
    {
      "cell_type": "code",
      "metadata": {
        "colab_type": "code",
        "id": "02MVPOEO_XC5",
        "colab": {}
      },
      "source": [
        "from sklearn.ensemble import RandomForestClassifier\n",
        "from sklearn.impute import SimpleImputer\n",
        "from sklearn.metrics import accuracy_score\n",
        "from sklearn.model_selection import train_test_split\n",
        "from sklearn.pipeline import make_pipeline"
      ],
      "execution_count": 0,
      "outputs": []
    },
    {
      "cell_type": "code",
      "metadata": {
        "colab_type": "code",
        "id": "46WM9sai-mOJ",
        "colab": {}
      },
      "source": [
        "backup = df"
      ],
      "execution_count": 0,
      "outputs": []
    },
    {
      "cell_type": "code",
      "metadata": {
        "colab_type": "code",
        "id": "ufAo7_OEEVWs",
        "outputId": "9e38fe8b-add8-43b3-b594-201eda5fc0f2",
        "colab": {
          "base_uri": "https://localhost:8080/",
          "height": 34
        }
      },
      "source": [
        "train, test = train_test_split(df, train_size=0.8, random_state=42)\n",
        "train, val = train_test_split(train, train_size=0.8, random_state=42)\n",
        "train.shape, val.shape, test.shape"
      ],
      "execution_count": 220,
      "outputs": [
        {
          "output_type": "execute_result",
          "data": {
            "text/plain": [
              "((6266, 58), (1567, 58), (1959, 58))"
            ]
          },
          "metadata": {
            "tags": []
          },
          "execution_count": 220
        }
      ]
    },
    {
      "cell_type": "code",
      "metadata": {
        "colab_type": "code",
        "id": "ynrcu-HQEifS",
        "colab": {}
      },
      "source": [
        "target = 'pitch_type'\n",
        "features = df.columns.drop([target, 'game_date'])\n",
        "\n",
        "X_train = train[features]\n",
        "y_train = train[target]\n",
        "X_val = val[features]\n",
        "y_val = val[target]\n",
        "X_test = test[features]\n",
        "y_test = test[target]"
      ],
      "execution_count": 0,
      "outputs": []
    },
    {
      "cell_type": "code",
      "metadata": {
        "colab_type": "code",
        "id": "dpzz7iZn_K6j",
        "outputId": "b2c7b628-61e5-4ae2-a999-5bc67fdcbec3",
        "colab": {
          "base_uri": "https://localhost:8080/",
          "height": 52
        }
      },
      "source": [
        "processor = make_pipeline(\n",
        "    ce.OrdinalEncoder(),\n",
        "    SimpleImputer(strategy='median')\n",
        ")\n",
        "X_train_processed = processor.fit_transform(X_train)\n",
        "X_val_processed = processor.transform(X_val)\n",
        "\n",
        "model = RandomForestClassifier(n_estimators=100, random_state=42, n_jobs=-1)\n",
        "model.fit(X_train_processed, y_train)\n",
        "\n",
        "print(f'Train accuracy: {model.score(X_train_processed, y_train):.5f}')\n",
        "print(f'Validation accuracy: {model.score(X_val_processed, y_val):.5f}')"
      ],
      "execution_count": 222,
      "outputs": [
        {
          "output_type": "stream",
          "text": [
            "Train accuracy: 0.99697\n",
            "Validation accuracy: 0.39566\n"
          ],
          "name": "stdout"
        }
      ]
    },
    {
      "cell_type": "code",
      "metadata": {
        "id": "_HAcWFGigCAf",
        "colab_type": "code",
        "colab": {}
      },
      "source": [
        "def log_model(txt_file='model_log.txt'):\n",
        "    with open(txt_file, 'a') as file:\n",
        "        file.write(f'Validation accuracy: {model.score(X_val_processed, y_val):.5f}\\n')\n",
        "        file.write(f'Features: {X_train.columns}\\n')\n",
        "        file.write(f'{model.get_params}\\n')\n",
        "        file.write('\\n')\n",
        "        file.close()"
      ],
      "execution_count": 0,
      "outputs": []
    },
    {
      "cell_type": "markdown",
      "metadata": {
        "id": "4CxFN0wpnOSS",
        "colab_type": "text"
      },
      "source": [
        "## MISC\n",
        "\n",
        "---\n",
        "\n"
      ]
    },
    {
      "cell_type": "code",
      "metadata": {
        "colab_type": "code",
        "id": "V6BqReG28l0r",
        "colab": {}
      },
      "source": [
        "def pitch_map(df):\n",
        "  '''\n",
        "  generates dictionary mapping 'pitch_type' to 'pitch_name'\n",
        "  '''\n",
        "  df = df.copy()\n",
        "\n",
        "  df = df.dropna(subset=['pitch_type', 'pitch_name'])\n",
        "  pitch_types = df['pitch_name'].unique().tolist()\n",
        "  pitch_types_abv = [i.lower() for i in df['pitch_type'].unique().tolist()]\n",
        "  \n",
        "  return dict(zip(pitch_types_abv, pitch_types))"
      ],
      "execution_count": 0,
      "outputs": []
    }
  ]
}