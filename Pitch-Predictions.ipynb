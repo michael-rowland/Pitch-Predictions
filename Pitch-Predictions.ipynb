{
  "nbformat": 4,
  "nbformat_minor": 0,
  "metadata": {
    "colab": {
      "name": "Pitch-Predictions.ipynb",
      "provenance": [],
      "collapsed_sections": [],
      "include_colab_link": true
    },
    "kernelspec": {
      "display_name": "Python 3",
      "language": "python",
      "name": "python3"
    },
    "language_info": {
      "codemirror_mode": {
        "name": "ipython",
        "version": 3
      },
      "file_extension": ".py",
      "mimetype": "text/x-python",
      "name": "python",
      "nbconvert_exporter": "python",
      "pygments_lexer": "ipython3",
      "version": "3.7.4"
    }
  },
  "cells": [
    {
      "cell_type": "markdown",
      "metadata": {
        "id": "view-in-github",
        "colab_type": "text"
      },
      "source": [
        "<a href=\"https://colab.research.google.com/github/michael-rowland/Pitch-Predictions/blob/master/Pitch-Predictions.ipynb\" target=\"_parent\"><img src=\"https://colab.research.google.com/assets/colab-badge.svg\" alt=\"Open In Colab\"/></a>"
      ]
    },
    {
      "cell_type": "markdown",
      "metadata": {
        "colab_type": "text",
        "id": "nAo_t8mL7782"
      },
      "source": [
        "## NOTES\n",
        "\n",
        "---\n",
        "\n",
        "QUESTIONS: \n",
        "- should I keep notes in docstring?\n",
        "- stance mapping 0/1\n",
        "- should I drop columns? When?\n",
        "\n",
        "Features:\n",
        "- Shifting?\n",
        "- Home/Away\n",
        "\n",
        "Per pitcher models\n",
        "\n",
        "Exponential Smoothing\n",
        "\n",
        "Permutation Importances\n",
        "\n",
        "AVERAGE ROC AUC / SCORECARD\n",
        "\n",
        "MULTIPLE PITCHERS\n",
        "\n",
        "MODEL TYPES\n",
        "\n"
      ]
    },
    {
      "cell_type": "markdown",
      "metadata": {
        "colab_type": "text",
        "id": "OJcWLt0IjSpi"
      },
      "source": [
        "## SETUP\n",
        "\n",
        "---\n",
        "\n"
      ]
    },
    {
      "cell_type": "code",
      "metadata": {
        "colab_type": "code",
        "id": "d536ZH3bNNoR",
        "colab": {}
      },
      "source": [
        "%%capture\n",
        "import sys\n",
        "\n",
        "# If you're on Colab:\n",
        "if 'google.colab' in sys.modules:\n",
        "    !pip install category_encoders==2.*\n",
        "    !pip install pybaseball\n",
        "\n",
        "# If you're working locally:\n",
        "else:\n",
        "    DATA_PATH = '../data/'"
      ],
      "execution_count": 0,
      "outputs": []
    },
    {
      "cell_type": "code",
      "metadata": {
        "colab_type": "code",
        "id": "Zx9VsN0oTWm4",
        "colab": {}
      },
      "source": [
        "# import os\n",
        "# import numpy as np\n",
        "import pandas as pd\n",
        "import category_encoders as ce\n",
        "from pybaseball import statcast_pitcher, playerid_lookup\n",
        "\n",
        "pd.set_option('display.max_columns', None)\n",
        "pd.set_option('display.max_rows', None)"
      ],
      "execution_count": 0,
      "outputs": []
    },
    {
      "cell_type": "markdown",
      "metadata": {
        "id": "DZq5fEQYyyde",
        "colab_type": "text"
      },
      "source": [
        "## DATA GATHERING\n",
        "\n",
        "---\n",
        "\n",
        "\n",
        "For now I am just going to focus on pitchers from my favorite team, the Minnesota Twins. \n",
        "\n",
        "Pitchers I will use will come from [here](https://theathletic.com/1570769/2020/01/30/twins-roster-projection-4-0-welcome-bringer-of-rain-and-human-bazooka/), plus recent trade acquisition, Kenta Maeda.\n",
        "\n",
        "Additional development: grow out dataset to players with X number of innings pitched"
      ]
    },
    {
      "cell_type": "code",
      "metadata": {
        "id": "oMi8iQVSyydh",
        "colab_type": "code",
        "colab": {
          "base_uri": "https://localhost:8080/",
          "height": 34
        },
        "outputId": "82add061-2dcc-48fb-9bd7-96ee8a608ed2"
      },
      "source": [
        "berrios_id = playerid_lookup('berrios', 'jose').loc[0, 'key_mlbam']"
      ],
      "execution_count": 145,
      "outputs": [
        {
          "output_type": "stream",
          "text": [
            "Gathering player lookup table. This may take a moment.\n"
          ],
          "name": "stdout"
        }
      ]
    },
    {
      "cell_type": "code",
      "metadata": {
        "id": "4nUPGtYCyyd5",
        "colab_type": "code",
        "colab": {
          "base_uri": "https://localhost:8080/",
          "height": 34
        },
        "outputId": "24e669c4-469f-4cc2-d32d-a14ae337ad45"
      },
      "source": [
        "berrios = statcast_pitcher('2008-04-01', '2020-01-01', berrios_id)"
      ],
      "execution_count": 146,
      "outputs": [
        {
          "output_type": "stream",
          "text": [
            "Gathering Player Data\n"
          ],
          "name": "stdout"
        }
      ]
    },
    {
      "cell_type": "markdown",
      "metadata": {
        "colab_type": "text",
        "id": "kPOjdQMtiCzb"
      },
      "source": [
        "## DATA CLEANING\n",
        "\n",
        "---\n",
        "\n"
      ]
    },
    {
      "cell_type": "code",
      "metadata": {
        "colab_type": "code",
        "id": "Ub2a5qyllXw4",
        "colab": {}
      },
      "source": [
        "def reorder(df):\n",
        "  '''\n",
        "  reorders pitches in ascending order\n",
        "  '''\n",
        "  df = df.copy()\n",
        "\n",
        "  df = df.reindex(index=df.index[::-1])\n",
        "  df = df.reset_index(drop=True)\n",
        "\n",
        "  return df"
      ],
      "execution_count": 0,
      "outputs": []
    },
    {
      "cell_type": "code",
      "metadata": {
        "colab_type": "code",
        "id": "hBJ_cQukIIhQ",
        "colab": {}
      },
      "source": [
        "def pitch_cleaning(df):\n",
        "  '''\n",
        "  cleans target ('pitch_type'), dropping NaN's (bad data) and non-standard \n",
        "  pitches\n",
        "  '''\n",
        "  df = df.copy()\n",
        "\n",
        "  df = df.dropna(subset=['pitch_type'])\n",
        "  \n",
        "  df['pitch_type'] = df['pitch_type'].str.lower()\n",
        "  remove_pitches = ['po', 'in', 'un']\n",
        "  df = df[~df['pitch_type'].isin(remove_pitches)]\n",
        "#   df = df.drop('pitch_name', axis=1)\n",
        "\n",
        "  return df"
      ],
      "execution_count": 0,
      "outputs": []
    },
    {
      "cell_type": "code",
      "metadata": {
        "colab_type": "code",
        "id": "vAknmNqXkwl5",
        "colab": {}
      },
      "source": [
        "def historical_cleaning(df):\n",
        "  '''\n",
        "  shifts relevant historical data to prevent data leakage\n",
        "  '''\n",
        "  df = df.copy()\n",
        "\n",
        "  df['previous_pitch'] = df['pitch_type'].shift(1)\n",
        "  df['previous_strike'] = df['type'].shift(1) == 'S'\n",
        "  df['previous_zone'] = df['zone'].shift(1) # this may need to be encoded somehow\n",
        "  df = df.drop(['type', 'zone'], axis=1)\n",
        "  fill_na = ['previous_pitch', 'previous_zone']\n",
        "  df[fill_na] = df[fill_na].fillna(0)\n",
        "\n",
        "  return df"
      ],
      "execution_count": 0,
      "outputs": []
    },
    {
      "cell_type": "markdown",
      "metadata": {
        "colab_type": "text",
        "id": "5LDyftn--AAg"
      },
      "source": [
        "## DATA PROCESSING\n",
        "\n",
        "---\n"
      ]
    },
    {
      "cell_type": "code",
      "metadata": {
        "colab_type": "code",
        "id": "8-kLatuYzfWJ",
        "colab": {}
      },
      "source": [
        "def total_pitches(df):\n",
        "  '''\n",
        "  creates column of total pitches prior to current/target pitch\n",
        "  '''\n",
        "  df = df.copy()\n",
        "\n",
        "  df['pitch_total'] = df.groupby('game_date').cumcount(ascending=True)\n",
        "\n",
        "  return df"
      ],
      "execution_count": 0,
      "outputs": []
    },
    {
      "cell_type": "code",
      "metadata": {
        "colab_type": "code",
        "id": "9xVEscXA1Jqo",
        "colab": {}
      },
      "source": [
        "def score_margin(df):\n",
        "  '''\n",
        "  creates column of score margin for the pitcher's team\n",
        "  '''\n",
        "  df = df.copy()\n",
        "\n",
        "  df['score_margin'] = df['fld_score'] - df['bat_score']\n",
        "  df = df.drop(['fld_score', 'bat_score'], axis=1)\n",
        "\n",
        "  return df"
      ],
      "execution_count": 0,
      "outputs": []
    },
    {
      "cell_type": "code",
      "metadata": {
        "colab_type": "code",
        "id": "iLdxLZbz28oK",
        "colab": {}
      },
      "source": [
        "def pitcher_advantage(df):\n",
        "  '''\n",
        "  creates column of pitcher advantage based on the ball/strike count\n",
        "  '''\n",
        "  df = df.copy()\n",
        "\n",
        "  advantages = {'0-0':'neutral', '0-1':'ahead', '0-2':'ahead', '1-0':'neutral', \n",
        "                '1-1':'neutral', '1-2':'ahead', '2-0':'behind', '2-1':'neutral',\n",
        "                '2-2':'ahead', '3-0':'behind', '3-1':'behind', '3-2':'neutral'}\n",
        "\n",
        "  df['count'] = df['balls'].astype(str) + '-' + df['strikes'].astype(str)\n",
        "  df['pitcher_advantage'] = df['count'].map(advantages)\n",
        "  df = df.drop('count', axis=1)\n",
        "\n",
        "  return df"
      ],
      "execution_count": 0,
      "outputs": []
    },
    {
      "cell_type": "code",
      "metadata": {
        "colab_type": "code",
        "id": "f5pWpSFn9vqj",
        "colab": {}
      },
      "source": [
        "def baserunners_mapping(df):\n",
        "  '''\n",
        "  maps baserunner to boolean values and creates column if there is a baserunner \n",
        "  on any base\n",
        "  '''\n",
        "  df = df.copy()\n",
        "\n",
        "  df['on_1b'] = df['on_1b'].notnull()\n",
        "  df['on_2b'] = df['on_2b'].notnull()\n",
        "  df['on_3b'] = df['on_3b'].notnull()\n",
        "  \n",
        "  df['baserunner'] = df['on_1b'] | df['on_2b'] | df['on_3b']\n",
        "\n",
        "  return df"
      ],
      "execution_count": 0,
      "outputs": []
    },
    {
      "cell_type": "code",
      "metadata": {
        "colab_type": "code",
        "id": "vv2mIdKT_NMS",
        "colab": {}
      },
      "source": [
        "def at_bat_counter(df):\n",
        "  '''\n",
        "  creates column of number of batters faced\n",
        "  '''\n",
        "  df = df.copy()\n",
        "\n",
        "  df['at_bat_count'] = df.groupby('at_bat_number').ngroup(ascending=True)+1\n",
        "  df = df.drop('at_bat_number', axis=1)\n",
        "\n",
        "  return df"
      ],
      "execution_count": 0,
      "outputs": []
    },
    {
      "cell_type": "code",
      "metadata": {
        "colab_type": "code",
        "id": "JbgCzp3fZGIY",
        "colab": {}
      },
      "source": [
        "def pitch_encoding(df):\n",
        "  '''\n",
        "  creates columns of previous pitch for each pitch type using OneHotEncoder\n",
        "  '''\n",
        "  df = df.copy()\n",
        "\n",
        "  encoder = ce.OneHotEncoder(use_cat_names=True)\n",
        "  encoded = encoder.fit_transform(df['previous_pitch'])\n",
        "  df = pd.merge(df, encoded, how='outer', on=df.index)\n",
        "  df = df.drop(['key_0', 'previous_pitch_0'], axis=1)\n",
        "  \n",
        "  return df"
      ],
      "execution_count": 0,
      "outputs": []
    },
    {
      "cell_type": "code",
      "metadata": {
        "colab_type": "code",
        "id": "sf7A465TYgIS",
        "colab": {}
      },
      "source": [
        "def pitch_counter(df):\n",
        "  '''\n",
        "  creates columuns of cumulative count of each specific pitch type\n",
        "  '''\n",
        "  df = df.copy()\n",
        "\n",
        "  pitches = [col for col in df if col.startswith('previous_pitch_')]\n",
        "  \n",
        "  for pitch in pitches:\n",
        "    df[f'count_{pitch[-2:]}'] = (df[pitch] == 1).cumsum()\n",
        "\n",
        "  return df"
      ],
      "execution_count": 0,
      "outputs": []
    },
    {
      "cell_type": "code",
      "metadata": {
        "colab_type": "code",
        "id": "6RSMf17lYil-",
        "colab": {}
      },
      "source": [
        "def pitch_tendency(df, window):\n",
        "  '''\n",
        "  creates columns of pitch tendency (mean) over last n = window pitches for \n",
        "  each pitch type\n",
        "  '''\n",
        "  df = df.copy()\n",
        "\n",
        "  pitches = [col for col in df if col.startswith('previous_pitch_')]\n",
        "  \n",
        "  for pitch in pitches:\n",
        "#     df[f'{pitch[-2:]}_tendency_{window}'] = df[pitch].iloc[1:].rolling(\n",
        "    df[f'{pitch[-2:]}_tendency_{window}'] = df[pitch].rolling(\n",
        "        window, min_periods=1).mean()\n",
        "    \n",
        "  return df"
      ],
      "execution_count": 0,
      "outputs": []
    },
    {
      "cell_type": "code",
      "metadata": {
        "colab_type": "code",
        "id": "xgkhYdbUgB_l",
        "colab": {}
      },
      "source": [
        "def strike_encoding(df):\n",
        "  '''\n",
        "  creates columns of strike pitch for each pitch type using OneHotEncoder\n",
        "  '''\n",
        "  df = df.copy()\n",
        "  \n",
        "  s = df['previous_strike'] == True\n",
        "  df['strike_pitch'] = s.mask(s, df['previous_pitch'])\n",
        "  \n",
        "  encoder = ce.OneHotEncoder(use_cat_names=True)\n",
        "  encoded = encoder.fit_transform(df['strike_pitch'])\n",
        "  df = pd.merge(df, encoded, how='outer', on=df.index)\n",
        "  df = df.drop(['key_0', 'strike_pitch_False', 'strike_pitch'], \n",
        "               axis=1, errors='ignore')\n",
        "  \n",
        "  return df"
      ],
      "execution_count": 0,
      "outputs": []
    },
    {
      "cell_type": "markdown",
      "metadata": {
        "id": "LmO6QCEfO58M",
        "colab_type": "text"
      },
      "source": [
        "  * This could be further engineered to calculate percentage of total number of \n",
        "  strikes thrown rather than number of total pitches\n"
      ]
    },
    {
      "cell_type": "code",
      "metadata": {
        "colab_type": "code",
        "id": "IX4Ox2h6gB_q",
        "colab": {}
      },
      "source": [
        "def strike_percentage(df, percentage=True):\n",
        "  '''\n",
        "  creates columns of strike percentage (or raw count) for each pitch type\n",
        "  '''\n",
        "  df = df.copy()\n",
        "\n",
        "  pitches = [col for col in df if col.startswith('strike_pitch_')]\n",
        "\n",
        "  for i in pitches:\n",
        "    target = f'{i[-2:]}_cumulative_strikes'\n",
        "    if percentage:\n",
        "      df[target] = (df[f'strike_pitch_{i[-2:]}'] == 1).cumsum() / df['pitch_total']\n",
        "    else:\n",
        "      df[target] = (df[f'strike_pitch_{i[-2:]}'] == 1).cumsum()\n",
        "    df[target] = df[target].fillna(0)\n",
        "      \n",
        "  return df"
      ],
      "execution_count": 0,
      "outputs": []
    },
    {
      "cell_type": "code",
      "metadata": {
        "colab_type": "code",
        "id": "GCdfgTD4gB_v",
        "colab": {}
      },
      "source": [
        "def strike_counter(df, window):\n",
        "  '''\n",
        "  creates columns of number of previous n (window) strikes thrown for each pitch \n",
        "  type\n",
        "  '''\n",
        "  df = df.copy()\n",
        "  \n",
        "  pitches = [col for col in df if col.startswith('strike_pitch_')]\n",
        "  \n",
        "  for i in pitches:\n",
        "    target = f'{i[-2:]}_strike_tendency_{window}'\n",
        "    df[target] = df[df[i] != 0][i].rolling(window, min_periods=1).sum()\n",
        "    df[target] = df[target].fillna(method='ffill')\n",
        "    df[target] = df[target].fillna(0)\n",
        "\n",
        "  return df"
      ],
      "execution_count": 0,
      "outputs": []
    },
    {
      "cell_type": "code",
      "metadata": {
        "colab_type": "code",
        "id": "mSHJmd2lobsX",
        "colab": {}
      },
      "source": [
        "def wrangle_game(df):\n",
        "  '''\n",
        "  this function does data cleaning and feature engineering on a per game basis\n",
        "  '''\n",
        "  df = df.copy()\n",
        "\n",
        "  # CLEANING FUNCTIONS\n",
        "  df = reorder(df)\n",
        "  df = pitch_cleaning(df)\n",
        "  if df.empty:\n",
        "    return\n",
        "  df = historical_cleaning(df)\n",
        "\n",
        "  # FEATURE ENGINEERING FUNCTIONS\n",
        "  df = total_pitches(df)\n",
        "  df = score_margin(df)\n",
        "  df = pitcher_advantage(df)\n",
        "  df = baserunners_mapping(df)\n",
        "  df = at_bat_counter(df)\n",
        "  df = pitch_encoding(df)\n",
        "  df = pitch_counter(df)\n",
        "  \n",
        "  windows = [5, 10, 20]\n",
        "  for window in windows:\n",
        "    df = pitch_tendency(df, window) \n",
        "  df = strike_encoding(df)\n",
        "  df = strike_percentage(df, percentage=True)\n",
        "  for window in windows:\n",
        "    df = strike_counter(df, window)\n",
        "  \n",
        "  return df"
      ],
      "execution_count": 0,
      "outputs": []
    },
    {
      "cell_type": "code",
      "metadata": {
        "colab_type": "code",
        "id": "VEAhamyTDgPE",
        "colab": {}
      },
      "source": [
        "def pitcher_wrangle(pitcher_data):\n",
        "  '''\n",
        "  wrangles all available data on specific pitcher (prior to 2020 season)\n",
        "  '''\n",
        "  \n",
        "#   THIS HAS TO BE IN HERE, AND I'M NOT SURE WHY\n",
        "  # target = 'pitch_type'\n",
        "  features = ['pitch_name', 'pitch_type', 'game_date', 'stand', 'balls', \n",
        "              'strikes', 'on_3b', 'on_2b', 'on_1b', 'outs_when_up', 'inning', \n",
        "              'at_bat_number', 'bat_score', 'fld_score', 'type', 'zone', \n",
        "              'player_name']\n",
        "  \n",
        "  # raw_data = statcast_pitcher('2008-04-01', '2020-01-01', pitcher)\n",
        "\n",
        "  df = pd.DataFrame()\n",
        "\n",
        "  games = pitcher_data['game_date'].unique().tolist()\n",
        "  \n",
        "  for game in games:\n",
        "    game_data = wrangle_game(pitcher_data[pitcher_data['game_date'] == game][features])\n",
        "    # game_data = wrangle_game(pitcher_data[pitcher_data['game_date'] == game])\n",
        "    df = df.append(game_data, ignore_index=True, sort=False)\n",
        "    \n",
        "  return df"
      ],
      "execution_count": 0,
      "outputs": []
    },
    {
      "cell_type": "code",
      "metadata": {
        "id": "boCbJCYzyyfb",
        "colab_type": "code",
        "colab": {}
      },
      "source": [
        "df = pitcher_wrangle(berrios)"
      ],
      "execution_count": 0,
      "outputs": []
    },
    {
      "cell_type": "code",
      "metadata": {
        "id": "u18Dw4UfGqM6",
        "colab_type": "code",
        "colab": {}
      },
      "source": [
        "df = df.drop(['pitch_name', 'player_name'], axis=1)"
      ],
      "execution_count": 0,
      "outputs": []
    },
    {
      "cell_type": "code",
      "metadata": {
        "id": "wGrYIJFgqiub",
        "colab_type": "code",
        "colab": {}
      },
      "source": [
        "import matplotlib.pyplot as plt"
      ],
      "execution_count": 0,
      "outputs": []
    },
    {
      "cell_type": "code",
      "metadata": {
        "id": "-VlUJAFkrSfQ",
        "colab_type": "code",
        "colab": {}
      },
      "source": [
        "df['game_date'] = pd.to_datetime(df['game_date'])\n",
        "df['year'] = df['game_date'].dt.year\n",
        "df['month'] = df['game_date'].dt.month"
      ],
      "execution_count": 0,
      "outputs": []
    },
    {
      "cell_type": "code",
      "metadata": {
        "id": "HZ0-IDmwsPl2",
        "colab_type": "code",
        "colab": {}
      },
      "source": [
        "tendencies = df.groupby(['year', 'month']).mean()\n",
        "pitches = tendencies.columns.str.startswith('previous_pitch_')\n",
        "plot_data = tendencies.loc[:, pitches]\n",
        "plot_data.columns = ['Fastball', 'Two-Seam', 'Curveball', 'Changeup']"
      ],
      "execution_count": 0,
      "outputs": []
    },
    {
      "cell_type": "code",
      "metadata": {
        "id": "ZnQmm1asm7Az",
        "colab_type": "code",
        "colab": {
          "base_uri": "https://localhost:8080/",
          "height": 441
        },
        "outputId": "9981157a-89b6-4d1b-cc16-d933060f203d"
      },
      "source": [
        "plt.style.use('fivethirtyeight')\n",
        "\n",
        "fig, ax = plt.subplots(figsize=(10, 6))\n",
        "\n",
        "for pitch in plot_data.columns:\n",
        "  plt.plot(range(len(plot_data)), plot_data[pitch], \n",
        "           label=pitch, linewidth=2)\n",
        "\n",
        "ax.legend()\n",
        "\n",
        "ax.set_title('Jose Berrios Pitch Mix', fontsize=22, fontweight='bold')\n",
        "ax.set_xlabel('Year', fontsize=14, fontweight='bold')\n",
        "ax.set_ylabel('Percentage of Pitches', fontsize=14, fontweight='bold')\n",
        "\n",
        "ax.set_xticks([0, 5, 11, 17])\n",
        "ax.set_xticklabels(range(2016, 2020))\n",
        "ax.set_yticklabels(range(-10,70,10))\n",
        "\n",
        "ax.axhline(y=0, color='black', linewidth=1)\n",
        "ax.axvline(x=0, color='black', linewidth=1)\n",
        "ax.text(x=21, y=-0.1, s='GitHub: michael-rowland', fontsize=8, color='grey')\n",
        "\n",
        "plt.show()"
      ],
      "execution_count": 279,
      "outputs": [
        {
          "output_type": "display_data",
          "data": {
            "image/png": "[encoded data removed]",
            "text/plain": [
              "<Figure size 720x432 with 1 Axes>"
            ]
          },
          "metadata": {
            "tags": []
          }
        }
      ]
    },
    {
      "cell_type": "markdown",
      "metadata": {
        "colab_type": "text",
        "id": "gD6IWOLr-hp7"
      },
      "source": [
        "## MODEL\n",
        "\n",
        "---\n",
        "\n"
      ]
    },
    {
      "cell_type": "code",
      "metadata": {
        "colab_type": "code",
        "id": "02MVPOEO_XC5",
        "colab": {}
      },
      "source": [
        "# MOVE TO TOP WHEN FINISHED\n",
        "from sklearn.ensemble import RandomForestClassifier\n",
        "from sklearn.impute import SimpleImputer\n",
        "from sklearn.metrics import accuracy_score\n",
        "from sklearn.model_selection import train_test_split\n",
        "from sklearn.pipeline import make_pipeline\n",
        "from xgboost import XGBClassifier"
      ],
      "execution_count": 0,
      "outputs": []
    },
    {
      "cell_type": "code",
      "metadata": {
        "colab_type": "code",
        "id": "_HAcWFGigCAf",
        "colab": {}
      },
      "source": [
        "def log_model(txt_file='model_log.txt'):\n",
        "    with open(txt_file, 'a') as file:\n",
        "        file.write(f'Validation accuracy: {model.score(X_val_processed, y_val):.5f}\\n')\n",
        "        file.write(f'Features: {X_train.columns}\\n')\n",
        "        file.write(f'{model.get_params}\\n')\n",
        "        file.write('\\n')\n",
        "        file.close()"
      ],
      "execution_count": 0,
      "outputs": []
    },
    {
      "cell_type": "code",
      "metadata": {
        "colab_type": "code",
        "id": "ufAo7_OEEVWs",
        "colab": {}
      },
      "source": [
        "train, test = train_test_split(df, train_size=0.8, random_state=42)\n",
        "train, val = train_test_split(train, train_size=0.8, random_state=42)"
      ],
      "execution_count": 0,
      "outputs": []
    },
    {
      "cell_type": "code",
      "metadata": {
        "colab_type": "code",
        "id": "ynrcu-HQEifS",
        "colab": {}
      },
      "source": [
        "target = 'pitch_type'\n",
        "features = df.columns.drop([target, 'game_date'])\n",
        "\n",
        "X_train = train[features]\n",
        "y_train = train[target]\n",
        "X_val = val[features]\n",
        "y_val = val[target]\n",
        "X_test = test[features]\n",
        "y_test = test[target]"
      ],
      "execution_count": 0,
      "outputs": []
    },
    {
      "cell_type": "code",
      "metadata": {
        "colab_type": "code",
        "id": "dpzz7iZn_K6j",
        "outputId": "b1501b6b-ab17-4003-89ad-91c0779bfb4b",
        "colab": {
          "base_uri": "https://localhost:8080/",
          "height": 156
        }
      },
      "source": [
        "processor = make_pipeline(\n",
        "    ce.OrdinalEncoder(),\n",
        "    SimpleImputer(strategy='mean')\n",
        ")\n",
        "X_train_processed = processor.fit_transform(X_train)\n",
        "X_val_processed = processor.transform(X_val)\n",
        "\n",
        "model = RandomForestClassifier(\n",
        "                               n_estimators=100, \n",
        "                               max_features=16,\n",
        "                               max_depth=9, \n",
        "                               random_state=42, \n",
        "                               n_jobs=-1)\n",
        "model.fit(X_train_processed, y_train)"
      ],
      "execution_count": 141,
      "outputs": [
        {
          "output_type": "execute_result",
          "data": {
            "text/plain": [
              "RandomForestClassifier(bootstrap=True, ccp_alpha=0.0, class_weight=None,\n",
              "                       criterion='gini', max_depth=9, max_features=16,\n",
              "                       max_leaf_nodes=None, max_samples=None,\n",
              "                       min_impurity_decrease=0.0, min_impurity_split=None,\n",
              "                       min_samples_leaf=1, min_samples_split=2,\n",
              "                       min_weight_fraction_leaf=0.0, n_estimators=100,\n",
              "                       n_jobs=-1, oob_score=False, random_state=42, verbose=0,\n",
              "                       warm_start=False)"
            ]
          },
          "metadata": {
            "tags": []
          },
          "execution_count": 141
        }
      ]
    },
    {
      "cell_type": "code",
      "metadata": {
        "id": "wItO3dnUyyf2",
        "colab_type": "code",
        "colab": {
          "base_uri": "https://localhost:8080/",
          "height": 69
        },
        "outputId": "40b242d6-1d27-47b3-da5e-da091daf50ab"
      },
      "source": [
        "baseline = df['pitch_type'].value_counts(normalize=True)[0]\n",
        "print(f'Baseline Accuracy: {baseline:.5f}')\n",
        "print(f'Train Accuracy: {model.score(X_train_processed, y_train):.5f}')\n",
        "print(f'Validation Accuracy: {model.score(X_val_processed, y_val):.5f}')"
      ],
      "execution_count": 142,
      "outputs": [
        {
          "output_type": "stream",
          "text": [
            "Baseline Accuracy: 0.32516\n",
            "Train Accuracy: 0.66007\n",
            "Validation Accuracy: 0.43204\n"
          ],
          "name": "stdout"
        }
      ]
    },
    {
      "cell_type": "markdown",
      "metadata": {
        "id": "TGOjOyvLyyf7",
        "colab_type": "text"
      },
      "source": [
        "\n",
        "\n",
        "---\n",
        "\n",
        "\n"
      ]
    },
    {
      "cell_type": "code",
      "metadata": {
        "id": "f6nnwIDkyyf9",
        "colab_type": "code",
        "colab": {}
      },
      "source": [
        "from sklearn.model_selection import RandomizedSearchCV\n",
        "from sklearn.feature_selection import f_regression, SelectKBest\n",
        "from scipy.stats import randint, uniform\n",
        "\n",
        "target = 'pitch_type'\n",
        "features = df.columns.drop([target, 'game_date'])\n",
        "train, test = train_test_split(df, train_size=0.8, random_state=0)\n",
        "X_train = train[features]\n",
        "y_train = train[target]\n",
        "X_test = test[features]\n",
        "y_test = test[target]\n",
        "\n",
        "pipeline = make_pipeline(\n",
        "    ce.OrdinalEncoder(), \n",
        "    SimpleImputer(), \n",
        "#     SelectKBest(f_regression), \n",
        "    RandomForestClassifier()\n",
        ")\n",
        "\n",
        "param_distributions = {\n",
        "  'simpleimputer__strategy': ['mean', 'median'], \n",
        "#   'selectkbest__k': range(1, len(X_train.columns)+1), \n",
        "#   'randomforestclassifier__n_estimators': randint(100, 200), \n",
        "  'randomforestclassifier__max_features': range(1, 26), \n",
        "  'randomforestclassifier__max_features': uniform(0, 1), \n",
        "  'randomforestclassifier__max_depth': [5, 8, 9, 10, 11, 12, 15, 20, None], \n",
        "  'randomforestclassifier__min_samples_split': range(2, 11), \n",
        "}\n",
        "\n",
        "search = RandomizedSearchCV(\n",
        "  pipeline, \n",
        "  param_distributions=param_distributions, \n",
        "  n_iter=10, \n",
        "  cv=5, \n",
        "  scoring='accuracy', \n",
        "  verbose=10, \n",
        "  return_train_score=True, \n",
        "  n_jobs=-1\n",
        ")"
      ],
      "execution_count": 0,
      "outputs": []
    },
    {
      "cell_type": "code",
      "metadata": {
        "id": "1jjl-4EhyygA",
        "colab_type": "code",
        "colab": {
          "base_uri": "https://localhost:8080/",
          "height": 764
        },
        "outputId": "b6c1cda8-c98e-4852-c416-7cd3d40e7cfd"
      },
      "source": [
        "search.fit(X_train, y_train)"
      ],
      "execution_count": 123,
      "outputs": [
        {
          "output_type": "stream",
          "text": [
            "Fitting 5 folds for each of 10 candidates, totalling 50 fits\n"
          ],
          "name": "stdout"
        },
        {
          "output_type": "stream",
          "text": [
            "[Parallel(n_jobs=-1)]: Using backend LokyBackend with 2 concurrent workers.\n",
            "[Parallel(n_jobs=-1)]: Done   1 tasks      | elapsed:    3.5s\n",
            "[Parallel(n_jobs=-1)]: Done   4 tasks      | elapsed:    5.1s\n",
            "[Parallel(n_jobs=-1)]: Done   9 tasks      | elapsed:    8.3s\n",
            "[Parallel(n_jobs=-1)]: Done  14 tasks      | elapsed:   11.6s\n",
            "[Parallel(n_jobs=-1)]: Done  21 tasks      | elapsed:   17.3s\n",
            "[Parallel(n_jobs=-1)]: Done  28 tasks      | elapsed:   22.0s\n",
            "[Parallel(n_jobs=-1)]: Done  37 tasks      | elapsed:   29.3s\n",
            "[Parallel(n_jobs=-1)]: Done  46 tasks      | elapsed:   35.4s\n",
            "[Parallel(n_jobs=-1)]: Done  50 out of  50 | elapsed:   38.2s finished\n"
          ],
          "name": "stderr"
        },
        {
          "output_type": "execute_result",
          "data": {
            "text/plain": [
              "RandomizedSearchCV(cv=5, error_score=nan,\n",
              "                   estimator=Pipeline(memory=None,\n",
              "                                      steps=[('ordinalencoder',\n",
              "                                              OrdinalEncoder(cols=None,\n",
              "                                                             drop_invariant=False,\n",
              "                                                             handle_missing='value',\n",
              "                                                             handle_unknown='value',\n",
              "                                                             mapping=None,\n",
              "                                                             return_df=True,\n",
              "                                                             verbose=0)),\n",
              "                                             ('simpleimputer',\n",
              "                                              SimpleImputer(add_indicator=False,\n",
              "                                                            copy=True,\n",
              "                                                            fill_value=None,\n",
              "                                                            missing_values=nan,\n",
              "                                                            strategy='mean',\n",
              "                                                            verbose=0)...\n",
              "                   param_distributions={'randomforestclassifier__max_depth': [5,\n",
              "                                                                              8,\n",
              "                                                                              9,\n",
              "                                                                              10,\n",
              "                                                                              11,\n",
              "                                                                              12,\n",
              "                                                                              15,\n",
              "                                                                              20,\n",
              "                                                                              None],\n",
              "                                        'randomforestclassifier__max_features': <scipy.stats._distn_infrastructure.rv_frozen object at 0x7fb294b5b400>,\n",
              "                                        'randomforestclassifier__min_samples_split': range(2, 11),\n",
              "                                        'simpleimputer__strategy': ['mean',\n",
              "                                                                    'median']},\n",
              "                   pre_dispatch='2*n_jobs', random_state=None, refit=True,\n",
              "                   return_train_score=True, scoring='accuracy', verbose=10)"
            ]
          },
          "metadata": {
            "tags": []
          },
          "execution_count": 123
        }
      ]
    },
    {
      "cell_type": "code",
      "metadata": {
        "id": "LiybiOFIyygE",
        "colab_type": "code",
        "colab": {
          "base_uri": "https://localhost:8080/",
          "height": 86
        },
        "outputId": "14e32114-1363-4057-efd9-b77b2d899149"
      },
      "source": [
        "search.best_params_"
      ],
      "execution_count": 124,
      "outputs": [
        {
          "output_type": "execute_result",
          "data": {
            "text/plain": [
              "{'randomforestclassifier__max_depth': 5,\n",
              " 'randomforestclassifier__max_features': 0.6100121664782999,\n",
              " 'randomforestclassifier__min_samples_split': 3,\n",
              " 'simpleimputer__strategy': 'mean'}"
            ]
          },
          "metadata": {
            "tags": []
          },
          "execution_count": 124
        }
      ]
    },
    {
      "cell_type": "code",
      "metadata": {
        "id": "WCd6bFfmyygI",
        "colab_type": "code",
        "colab": {
          "base_uri": "https://localhost:8080/",
          "height": 34
        },
        "outputId": "64a1b773-d39c-44a9-ae15-819515b5417d"
      },
      "source": [
        "search.best_score_"
      ],
      "execution_count": 125,
      "outputs": [
        {
          "output_type": "execute_result",
          "data": {
            "text/plain": [
              "1.0"
            ]
          },
          "metadata": {
            "tags": []
          },
          "execution_count": 125
        }
      ]
    },
    {
      "cell_type": "markdown",
      "metadata": {
        "id": "vkhxTR622Q8h",
        "colab_type": "text"
      },
      "source": [
        "## LOGISTIC REGRESSION"
      ]
    },
    {
      "cell_type": "code",
      "metadata": {
        "id": "NnbvhIlJyygM",
        "colab_type": "code",
        "colab": {}
      },
      "source": [
        "log_df = df\n",
        "pitch_mapping = {'ff': 1, 'ft': 1, 'cu': 0, 'ch': 0}\n",
        "log_df['pitch_type'] = log_df['pitch_type'].map(pitch_mapping)\n",
        "\n",
        "advantage_mapping = {'behind': -1, 'neutral': 0, 'ahead': 1}\n",
        "log_df['pitcher_advantage'] = log_df['pitcher_advantage'].map(advantage_mapping)\n",
        "\n",
        "stance_mapping = {'L': 1, 'R': 0}\n",
        "log_df['stand'] = log_df['stand'].map(stance_mapping)\n",
        "\n",
        "bool_cols = ['on_3b', 'on_2b', 'on_1b', 'previous_strike', 'baserunner']\n",
        "log_df[bool_cols] = log_df[bool_cols].astype(int)\n",
        "\n",
        "drop_cols = ['game_date', 'player_name', 'previous_zone', 'previous_pitch', 'pitch_name']\n",
        "# drop_cols = ['player_name', 'previous_zone', 'previous_pitch', 'pitch_name']\n",
        "log_df = log_df.drop(drop_cols, axis=1)\n",
        "\n",
        "for column in log_df.columns:\n",
        "  isnull = log_df[column].isnull().any()\n",
        "  if isnull:\n",
        "    log_df[column] = log_df[column].fillna(0)"
      ],
      "execution_count": 0,
      "outputs": []
    },
    {
      "cell_type": "code",
      "metadata": {
        "id": "dQqG_DdjyygP",
        "colab_type": "code",
        "colab": {
          "base_uri": "https://localhost:8080/",
          "height": 34
        },
        "outputId": "c9b39f6d-bba9-4e8a-fde8-8f5dd78a504b"
      },
      "source": [
        "baseline = log_df['pitch_type'].value_counts(normalize=True).tolist()[0]\n",
        "baseline"
      ],
      "execution_count": 100,
      "outputs": [
        {
          "output_type": "execute_result",
          "data": {
            "text/plain": [
              "0.59375"
            ]
          },
          "metadata": {
            "tags": []
          },
          "execution_count": 100
        }
      ]
    },
    {
      "cell_type": "code",
      "metadata": {
        "id": "mrM8KoVWyygT",
        "colab_type": "code",
        "colab": {}
      },
      "source": [
        "target = 'pitch_type'\n",
        "features = log_df.columns.drop(target)\n",
        "\n",
        "train, test = train_test_split(log_df, train_size=0.8, random_state=42)\n",
        "train, val = train_test_split(train, train_size=0.8, random_state=42)\n",
        "\n",
        "X_train = train[features]\n",
        "y_train = train[target]\n",
        "X_val = val[features]\n",
        "y_val = val[target]"
      ],
      "execution_count": 0,
      "outputs": []
    },
    {
      "cell_type": "code",
      "metadata": {
        "id": "nf1pgEDxyygW",
        "colab_type": "code",
        "colab": {
          "base_uri": "https://localhost:8080/",
          "height": 173
        },
        "outputId": "c920a008-49f2-4feb-92ed-709a29fa3d19"
      },
      "source": [
        "from sklearn.metrics import accuracy_score\n",
        "from sklearn.linear_model import LogisticRegression\n",
        "from sklearn.preprocessing import StandardScaler\n",
        "\n",
        "scaler = StandardScaler()\n",
        "\n",
        "X_train_scaled = scaler.fit_transform(X_train)\n",
        "X_val_scaled = scaler.transform(X_val)\n",
        "\n",
        "lr = LogisticRegression()\n",
        "lr.fit(X_train, y_train)\n",
        "accuracy = lr.score(X_val, y_val)\n",
        "print(f'Validation Accuracy: {accuracy*100:.2f}%')"
      ],
      "execution_count": 107,
      "outputs": [
        {
          "output_type": "stream",
          "text": [
            "Validation Accuracy: 60.63%\n"
          ],
          "name": "stdout"
        },
        {
          "output_type": "stream",
          "text": [
            "/usr/local/lib/python3.6/dist-packages/sklearn/linear_model/_logistic.py:940: ConvergenceWarning: lbfgs failed to converge (status=1):\n",
            "STOP: TOTAL NO. of ITERATIONS REACHED LIMIT.\n",
            "\n",
            "Increase the number of iterations (max_iter) or scale the data as shown in:\n",
            "    https://scikit-learn.org/stable/modules/preprocessing.html\n",
            "Please also refer to the documentation for alternative solver options:\n",
            "    https://scikit-learn.org/stable/modules/linear_model.html#logistic-regression\n",
            "  extra_warning_msg=_LOGISTIC_SOLVER_CONVERGENCE_MSG)\n"
          ],
          "name": "stderr"
        }
      ]
    },
    {
      "cell_type": "code",
      "metadata": {
        "id": "IWeXLbSnyyge",
        "colab_type": "code",
        "colab": {}
      },
      "source": [
        "err = log_df[(log_df['game_date'] == '2019-05-13')]\n",
        "err[err['previous_pitch_ch'] == 1].T"
      ],
      "execution_count": 0,
      "outputs": []
    },
    {
      "cell_type": "code",
      "metadata": {
        "id": "IXocysESC_aB",
        "colab_type": "code",
        "colab": {}
      },
      "source": [
        "import matplotlib.pyplot as plt"
      ],
      "execution_count": 0,
      "outputs": []
    },
    {
      "cell_type": "code",
      "metadata": {
        "id": "RLYP8oEqClUD",
        "colab_type": "code",
        "colab": {
          "base_uri": "https://localhost:8080/",
          "height": 265
        },
        "outputId": "ebd3c68a-9c26-4f40-f211-9314032f5940"
      },
      "source": [
        "probabilities = lr.predict_proba(X_val)\n",
        "\n",
        "plt.scatter(range(len(probabilities)), probabilities[:,0])\n",
        "plt.show()"
      ],
      "execution_count": 121,
      "outputs": [
        {
          "output_type": "display_data",
          "data": {
            "image/png": "[encoded data removed]",
            "text/plain": [
              "<Figure size 432x288 with 1 Axes>"
            ]
          },
          "metadata": {
            "tags": []
          }
        }
      ]
    },
    {
      "cell_type": "markdown",
      "metadata": {
        "colab_type": "text",
        "id": "4CxFN0wpnOSS"
      },
      "source": [
        "## MISC\n",
        "\n",
        "---\n",
        "\n"
      ]
    },
    {
      "cell_type": "code",
      "metadata": {
        "colab_type": "code",
        "id": "V6BqReG28l0r",
        "colab": {}
      },
      "source": [
        "def pitch_map(df):\n",
        "  '''\n",
        "  generates dictionary mapping 'pitch_type' to 'pitch_name'\n",
        "  '''\n",
        "  df = df.copy()\n",
        "\n",
        "  df = df.dropna(subset=['pitch_type', 'pitch_name'])\n",
        "  pitch_types = df['pitch_name'].unique().tolist()\n",
        "  pitch_types_abv = [i.lower() for i in df['pitch_type'].unique().tolist()]\n",
        "  \n",
        "  return dict(zip(pitch_types_abv, pitch_types))\n",
        "\n",
        "# sample = 'https://raw.githubusercontent.com/michael-rowland/Pitch-Predictions/master/sample.csv'\n",
        "# df = pd.read_csv(sample)\n",
        "# df = df[df['game_date'] == '2018-09-28']"
      ],
      "execution_count": 0,
      "outputs": []
    },
    {
      "cell_type": "code",
      "metadata": {
        "id": "cdpYWtGIyygr",
        "colab_type": "code",
        "colab": {}
      },
      "source": [
        "# import time\n",
        "\n",
        "# twins_pitchers = [\n",
        "#   ['jose', 'berrios'], \n",
        "#   ['jake', 'odorizzi'], \n",
        "#   ['homer', 'bailey'], \n",
        "#   ['lewis', 'thorpe'], \n",
        "#   ['randy', 'dobnak'], \n",
        "#   ['kenta', 'maeda'], \n",
        "#   ['taylor', 'rogers'], \n",
        "#   ['sergio', 'romo'], \n",
        "#   ['tyler', 'duffey'], \n",
        "#   ['trevor', 'may'], \n",
        "#   ['tyler', 'clippard'], \n",
        "#   ['zack', 'littell'], \n",
        "#   ['matt', 'wisler']\n",
        "# ]\n",
        "\n",
        "# for pitcher in twins_pitchers[5:6]:\n",
        "#   print(f'{pitcher[0]} {pitcher[1]}')\n",
        "#   start = time.time()\n",
        "#   lookup = playerid_lookup(pitcher[1], pitcher[0])\n",
        "#   pitcher_id = lookup.loc[0, 'key_mlbam']\n",
        "#   pitcher.append(pitcher_id)\n",
        "#   df = pitcher_wrangle(pitcher_id)\n",
        "#   pitcher.append(df)\n",
        "#   end = time.time()\n",
        "#   print(f'Time: {end - start}')\n",
        "#   print(lookup)"
      ],
      "execution_count": 0,
      "outputs": []
    }
  ]
}